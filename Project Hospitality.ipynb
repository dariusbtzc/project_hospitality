{
 "cells": [
  {
   "cell_type": "markdown",
   "metadata": {},
   "source": [
    "# Business problem\n",
    "\n",
    "This project aims to help two hotels — namely Resort Hotel and City Hotel — gain a competitive edge in the hotel industry and maximise their revenue by answering the following business questions: \n",
    "* What are the important customer segments?\n",
    "* Can we predict booking cancellations?\n",
    "* What are the key features involved in booking cancellations?\n",
    "\n",
    "The dataset is taken from [Kaggle: Hotel booking demand](https://www.kaggle.com/datasets/jessemostipak/hotel-booking-demand)."
   ]
  },
  {
   "cell_type": "markdown",
   "metadata": {},
   "source": [
    "# Import libraries and dataset"
   ]
  },
  {
   "cell_type": "code",
   "execution_count": 1,
   "metadata": {},
   "outputs": [],
   "source": [
    "# For managing / transforming the data\n",
    "import numpy as np\n",
    "import pandas as pd\n",
    "\n",
    "# For data visualisation\n",
    "import matplotlib.pyplot as plt\n",
    "import seaborn as sns\n",
    "\n",
    "# For the ML models\n",
    "from sklearn import preprocessing, linear_model, ensemble\n",
    "from sklearn.model_selection import train_test_split, cross_validate, StratifiedKFold\n",
    "from sklearn.metrics import make_scorer, accuracy_score, precision_score, recall_score, f1_score, roc_auc_score\n",
    "from sklearn.linear_model import LinearRegression\n",
    "from sklearn.tree import DecisionTreeClassifier\n",
    "from sklearn.ensemble import RandomForestClassifier\n",
    "from sklearn.cluster import KMeans\n",
    "import xgboost as xgb\n",
    "\n",
    "# For deep learning\n",
    "from tensorflow.keras.models import Sequential\n",
    "from tensorflow.keras.layers import Dense, Dropout\n",
    "from keras.wrappers.scikit_learn import KerasClassifier\n",
    "\n",
    "# Ignore warnings\n",
    "import warnings\n",
    "warnings.filterwarnings('ignore')"
   ]
  },
  {
   "cell_type": "code",
   "execution_count": 2,
   "metadata": {},
   "outputs": [],
   "source": [
    "hotel_data = pd.read_csv('hotel_bookings.csv')"
   ]
  },
  {
   "cell_type": "code",
   "execution_count": 3,
   "metadata": {},
   "outputs": [],
   "source": [
    "hotel_data_backup = hotel_data.copy(deep = True)"
   ]
  },
  {
   "cell_type": "markdown",
   "metadata": {},
   "source": [
    "# Reviewing the data"
   ]
  },
  {
   "cell_type": "code",
   "execution_count": 4,
   "metadata": {},
   "outputs": [],
   "source": [
    "# To show all the columns of the large dataset\n",
    "pd.set_option('display.max_columns', None)"
   ]
  },
  {
   "cell_type": "code",
   "execution_count": 5,
   "metadata": {},
   "outputs": [
    {
     "data": {
      "text/html": [
       "<div>\n",
       "<style scoped>\n",
       "    .dataframe tbody tr th:only-of-type {\n",
       "        vertical-align: middle;\n",
       "    }\n",
       "\n",
       "    .dataframe tbody tr th {\n",
       "        vertical-align: top;\n",
       "    }\n",
       "\n",
       "    .dataframe thead th {\n",
       "        text-align: right;\n",
       "    }\n",
       "</style>\n",
       "<table border=\"1\" class=\"dataframe\">\n",
       "  <thead>\n",
       "    <tr style=\"text-align: right;\">\n",
       "      <th></th>\n",
       "      <th>hotel</th>\n",
       "      <th>is_canceled</th>\n",
       "      <th>lead_time</th>\n",
       "      <th>arrival_date_year</th>\n",
       "      <th>arrival_date_month</th>\n",
       "      <th>arrival_date_week_number</th>\n",
       "      <th>arrival_date_day_of_month</th>\n",
       "      <th>stays_in_weekend_nights</th>\n",
       "      <th>stays_in_week_nights</th>\n",
       "      <th>adults</th>\n",
       "      <th>children</th>\n",
       "      <th>babies</th>\n",
       "      <th>meal</th>\n",
       "      <th>country</th>\n",
       "      <th>market_segment</th>\n",
       "      <th>distribution_channel</th>\n",
       "      <th>is_repeated_guest</th>\n",
       "      <th>previous_cancellations</th>\n",
       "      <th>previous_bookings_not_canceled</th>\n",
       "      <th>reserved_room_type</th>\n",
       "      <th>assigned_room_type</th>\n",
       "      <th>booking_changes</th>\n",
       "      <th>deposit_type</th>\n",
       "      <th>agent</th>\n",
       "      <th>company</th>\n",
       "      <th>days_in_waiting_list</th>\n",
       "      <th>customer_type</th>\n",
       "      <th>adr</th>\n",
       "      <th>required_car_parking_spaces</th>\n",
       "      <th>total_of_special_requests</th>\n",
       "      <th>reservation_status</th>\n",
       "      <th>reservation_status_date</th>\n",
       "    </tr>\n",
       "  </thead>\n",
       "  <tbody>\n",
       "    <tr>\n",
       "      <th>0</th>\n",
       "      <td>Resort Hotel</td>\n",
       "      <td>0</td>\n",
       "      <td>342</td>\n",
       "      <td>2015</td>\n",
       "      <td>July</td>\n",
       "      <td>27</td>\n",
       "      <td>1</td>\n",
       "      <td>0</td>\n",
       "      <td>0</td>\n",
       "      <td>2</td>\n",
       "      <td>0.0</td>\n",
       "      <td>0</td>\n",
       "      <td>BB</td>\n",
       "      <td>PRT</td>\n",
       "      <td>Direct</td>\n",
       "      <td>Direct</td>\n",
       "      <td>0</td>\n",
       "      <td>0</td>\n",
       "      <td>0</td>\n",
       "      <td>C</td>\n",
       "      <td>C</td>\n",
       "      <td>3</td>\n",
       "      <td>No Deposit</td>\n",
       "      <td>NaN</td>\n",
       "      <td>NaN</td>\n",
       "      <td>0</td>\n",
       "      <td>Transient</td>\n",
       "      <td>0.0</td>\n",
       "      <td>0</td>\n",
       "      <td>0</td>\n",
       "      <td>Check-Out</td>\n",
       "      <td>2015-07-01</td>\n",
       "    </tr>\n",
       "    <tr>\n",
       "      <th>1</th>\n",
       "      <td>Resort Hotel</td>\n",
       "      <td>0</td>\n",
       "      <td>737</td>\n",
       "      <td>2015</td>\n",
       "      <td>July</td>\n",
       "      <td>27</td>\n",
       "      <td>1</td>\n",
       "      <td>0</td>\n",
       "      <td>0</td>\n",
       "      <td>2</td>\n",
       "      <td>0.0</td>\n",
       "      <td>0</td>\n",
       "      <td>BB</td>\n",
       "      <td>PRT</td>\n",
       "      <td>Direct</td>\n",
       "      <td>Direct</td>\n",
       "      <td>0</td>\n",
       "      <td>0</td>\n",
       "      <td>0</td>\n",
       "      <td>C</td>\n",
       "      <td>C</td>\n",
       "      <td>4</td>\n",
       "      <td>No Deposit</td>\n",
       "      <td>NaN</td>\n",
       "      <td>NaN</td>\n",
       "      <td>0</td>\n",
       "      <td>Transient</td>\n",
       "      <td>0.0</td>\n",
       "      <td>0</td>\n",
       "      <td>0</td>\n",
       "      <td>Check-Out</td>\n",
       "      <td>2015-07-01</td>\n",
       "    </tr>\n",
       "    <tr>\n",
       "      <th>2</th>\n",
       "      <td>Resort Hotel</td>\n",
       "      <td>0</td>\n",
       "      <td>7</td>\n",
       "      <td>2015</td>\n",
       "      <td>July</td>\n",
       "      <td>27</td>\n",
       "      <td>1</td>\n",
       "      <td>0</td>\n",
       "      <td>1</td>\n",
       "      <td>1</td>\n",
       "      <td>0.0</td>\n",
       "      <td>0</td>\n",
       "      <td>BB</td>\n",
       "      <td>GBR</td>\n",
       "      <td>Direct</td>\n",
       "      <td>Direct</td>\n",
       "      <td>0</td>\n",
       "      <td>0</td>\n",
       "      <td>0</td>\n",
       "      <td>A</td>\n",
       "      <td>C</td>\n",
       "      <td>0</td>\n",
       "      <td>No Deposit</td>\n",
       "      <td>NaN</td>\n",
       "      <td>NaN</td>\n",
       "      <td>0</td>\n",
       "      <td>Transient</td>\n",
       "      <td>75.0</td>\n",
       "      <td>0</td>\n",
       "      <td>0</td>\n",
       "      <td>Check-Out</td>\n",
       "      <td>2015-07-02</td>\n",
       "    </tr>\n",
       "    <tr>\n",
       "      <th>3</th>\n",
       "      <td>Resort Hotel</td>\n",
       "      <td>0</td>\n",
       "      <td>13</td>\n",
       "      <td>2015</td>\n",
       "      <td>July</td>\n",
       "      <td>27</td>\n",
       "      <td>1</td>\n",
       "      <td>0</td>\n",
       "      <td>1</td>\n",
       "      <td>1</td>\n",
       "      <td>0.0</td>\n",
       "      <td>0</td>\n",
       "      <td>BB</td>\n",
       "      <td>GBR</td>\n",
       "      <td>Corporate</td>\n",
       "      <td>Corporate</td>\n",
       "      <td>0</td>\n",
       "      <td>0</td>\n",
       "      <td>0</td>\n",
       "      <td>A</td>\n",
       "      <td>A</td>\n",
       "      <td>0</td>\n",
       "      <td>No Deposit</td>\n",
       "      <td>304.0</td>\n",
       "      <td>NaN</td>\n",
       "      <td>0</td>\n",
       "      <td>Transient</td>\n",
       "      <td>75.0</td>\n",
       "      <td>0</td>\n",
       "      <td>0</td>\n",
       "      <td>Check-Out</td>\n",
       "      <td>2015-07-02</td>\n",
       "    </tr>\n",
       "    <tr>\n",
       "      <th>4</th>\n",
       "      <td>Resort Hotel</td>\n",
       "      <td>0</td>\n",
       "      <td>14</td>\n",
       "      <td>2015</td>\n",
       "      <td>July</td>\n",
       "      <td>27</td>\n",
       "      <td>1</td>\n",
       "      <td>0</td>\n",
       "      <td>2</td>\n",
       "      <td>2</td>\n",
       "      <td>0.0</td>\n",
       "      <td>0</td>\n",
       "      <td>BB</td>\n",
       "      <td>GBR</td>\n",
       "      <td>Online TA</td>\n",
       "      <td>TA/TO</td>\n",
       "      <td>0</td>\n",
       "      <td>0</td>\n",
       "      <td>0</td>\n",
       "      <td>A</td>\n",
       "      <td>A</td>\n",
       "      <td>0</td>\n",
       "      <td>No Deposit</td>\n",
       "      <td>240.0</td>\n",
       "      <td>NaN</td>\n",
       "      <td>0</td>\n",
       "      <td>Transient</td>\n",
       "      <td>98.0</td>\n",
       "      <td>0</td>\n",
       "      <td>1</td>\n",
       "      <td>Check-Out</td>\n",
       "      <td>2015-07-03</td>\n",
       "    </tr>\n",
       "  </tbody>\n",
       "</table>\n",
       "</div>"
      ],
      "text/plain": [
       "          hotel  is_canceled  lead_time  arrival_date_year arrival_date_month  \\\n",
       "0  Resort Hotel            0        342               2015               July   \n",
       "1  Resort Hotel            0        737               2015               July   \n",
       "2  Resort Hotel            0          7               2015               July   \n",
       "3  Resort Hotel            0         13               2015               July   \n",
       "4  Resort Hotel            0         14               2015               July   \n",
       "\n",
       "   arrival_date_week_number  arrival_date_day_of_month  \\\n",
       "0                        27                          1   \n",
       "1                        27                          1   \n",
       "2                        27                          1   \n",
       "3                        27                          1   \n",
       "4                        27                          1   \n",
       "\n",
       "   stays_in_weekend_nights  stays_in_week_nights  adults  children  babies  \\\n",
       "0                        0                     0       2       0.0       0   \n",
       "1                        0                     0       2       0.0       0   \n",
       "2                        0                     1       1       0.0       0   \n",
       "3                        0                     1       1       0.0       0   \n",
       "4                        0                     2       2       0.0       0   \n",
       "\n",
       "  meal country market_segment distribution_channel  is_repeated_guest  \\\n",
       "0   BB     PRT         Direct               Direct                  0   \n",
       "1   BB     PRT         Direct               Direct                  0   \n",
       "2   BB     GBR         Direct               Direct                  0   \n",
       "3   BB     GBR      Corporate            Corporate                  0   \n",
       "4   BB     GBR      Online TA                TA/TO                  0   \n",
       "\n",
       "   previous_cancellations  previous_bookings_not_canceled reserved_room_type  \\\n",
       "0                       0                               0                  C   \n",
       "1                       0                               0                  C   \n",
       "2                       0                               0                  A   \n",
       "3                       0                               0                  A   \n",
       "4                       0                               0                  A   \n",
       "\n",
       "  assigned_room_type  booking_changes deposit_type  agent  company  \\\n",
       "0                  C                3   No Deposit    NaN      NaN   \n",
       "1                  C                4   No Deposit    NaN      NaN   \n",
       "2                  C                0   No Deposit    NaN      NaN   \n",
       "3                  A                0   No Deposit  304.0      NaN   \n",
       "4                  A                0   No Deposit  240.0      NaN   \n",
       "\n",
       "   days_in_waiting_list customer_type   adr  required_car_parking_spaces  \\\n",
       "0                     0     Transient   0.0                            0   \n",
       "1                     0     Transient   0.0                            0   \n",
       "2                     0     Transient  75.0                            0   \n",
       "3                     0     Transient  75.0                            0   \n",
       "4                     0     Transient  98.0                            0   \n",
       "\n",
       "   total_of_special_requests reservation_status reservation_status_date  \n",
       "0                          0          Check-Out              2015-07-01  \n",
       "1                          0          Check-Out              2015-07-01  \n",
       "2                          0          Check-Out              2015-07-02  \n",
       "3                          0          Check-Out              2015-07-02  \n",
       "4                          1          Check-Out              2015-07-03  "
      ]
     },
     "execution_count": 5,
     "metadata": {},
     "output_type": "execute_result"
    }
   ],
   "source": [
    "hotel_data.head()"
   ]
  },
  {
   "cell_type": "code",
   "execution_count": 6,
   "metadata": {},
   "outputs": [
    {
     "data": {
      "text/plain": [
       "(119390, 32)"
      ]
     },
     "execution_count": 6,
     "metadata": {},
     "output_type": "execute_result"
    }
   ],
   "source": [
    "hotel_data.shape"
   ]
  },
  {
   "cell_type": "code",
   "execution_count": 7,
   "metadata": {},
   "outputs": [
    {
     "data": {
      "text/plain": [
       "hotel                              object\n",
       "is_canceled                         int64\n",
       "lead_time                           int64\n",
       "arrival_date_year                   int64\n",
       "arrival_date_month                 object\n",
       "arrival_date_week_number            int64\n",
       "arrival_date_day_of_month           int64\n",
       "stays_in_weekend_nights             int64\n",
       "stays_in_week_nights                int64\n",
       "adults                              int64\n",
       "children                          float64\n",
       "babies                              int64\n",
       "meal                               object\n",
       "country                            object\n",
       "market_segment                     object\n",
       "distribution_channel               object\n",
       "is_repeated_guest                   int64\n",
       "previous_cancellations              int64\n",
       "previous_bookings_not_canceled      int64\n",
       "reserved_room_type                 object\n",
       "assigned_room_type                 object\n",
       "booking_changes                     int64\n",
       "deposit_type                       object\n",
       "agent                             float64\n",
       "company                           float64\n",
       "days_in_waiting_list                int64\n",
       "customer_type                      object\n",
       "adr                               float64\n",
       "required_car_parking_spaces         int64\n",
       "total_of_special_requests           int64\n",
       "reservation_status                 object\n",
       "reservation_status_date            object\n",
       "dtype: object"
      ]
     },
     "execution_count": 7,
     "metadata": {},
     "output_type": "execute_result"
    }
   ],
   "source": [
    "hotel_data.dtypes"
   ]
  },
  {
   "cell_type": "code",
   "execution_count": 8,
   "metadata": {},
   "outputs": [
    {
     "data": {
      "text/plain": [
       "hotel                                2\n",
       "is_canceled                          2\n",
       "lead_time                          479\n",
       "arrival_date_year                    3\n",
       "arrival_date_month                  12\n",
       "arrival_date_week_number            53\n",
       "arrival_date_day_of_month           31\n",
       "stays_in_weekend_nights             17\n",
       "stays_in_week_nights                35\n",
       "adults                              14\n",
       "children                             5\n",
       "babies                               5\n",
       "meal                                 5\n",
       "country                            177\n",
       "market_segment                       8\n",
       "distribution_channel                 5\n",
       "is_repeated_guest                    2\n",
       "previous_cancellations              15\n",
       "previous_bookings_not_canceled      73\n",
       "reserved_room_type                  10\n",
       "assigned_room_type                  12\n",
       "booking_changes                     21\n",
       "deposit_type                         3\n",
       "agent                              333\n",
       "company                            352\n",
       "days_in_waiting_list               128\n",
       "customer_type                        4\n",
       "adr                               8879\n",
       "required_car_parking_spaces          5\n",
       "total_of_special_requests            6\n",
       "reservation_status                   3\n",
       "reservation_status_date            926\n",
       "dtype: int64"
      ]
     },
     "execution_count": 8,
     "metadata": {},
     "output_type": "execute_result"
    }
   ],
   "source": [
    "# Number of unique inputs for each column \n",
    "# To get a sense of the variable type for each column\n",
    "hotel_data.nunique()"
   ]
  },
  {
   "cell_type": "code",
   "execution_count": 9,
   "metadata": {},
   "outputs": [
    {
     "data": {
      "text/html": [
       "<div>\n",
       "<style scoped>\n",
       "    .dataframe tbody tr th:only-of-type {\n",
       "        vertical-align: middle;\n",
       "    }\n",
       "\n",
       "    .dataframe tbody tr th {\n",
       "        vertical-align: top;\n",
       "    }\n",
       "\n",
       "    .dataframe thead th {\n",
       "        text-align: right;\n",
       "    }\n",
       "</style>\n",
       "<table border=\"1\" class=\"dataframe\">\n",
       "  <thead>\n",
       "    <tr style=\"text-align: right;\">\n",
       "      <th></th>\n",
       "      <th>is_canceled</th>\n",
       "      <th>lead_time</th>\n",
       "      <th>arrival_date_year</th>\n",
       "      <th>arrival_date_week_number</th>\n",
       "      <th>arrival_date_day_of_month</th>\n",
       "      <th>stays_in_weekend_nights</th>\n",
       "      <th>stays_in_week_nights</th>\n",
       "      <th>adults</th>\n",
       "      <th>children</th>\n",
       "      <th>babies</th>\n",
       "      <th>is_repeated_guest</th>\n",
       "      <th>previous_cancellations</th>\n",
       "      <th>previous_bookings_not_canceled</th>\n",
       "      <th>booking_changes</th>\n",
       "      <th>agent</th>\n",
       "      <th>company</th>\n",
       "      <th>days_in_waiting_list</th>\n",
       "      <th>adr</th>\n",
       "      <th>required_car_parking_spaces</th>\n",
       "      <th>total_of_special_requests</th>\n",
       "    </tr>\n",
       "  </thead>\n",
       "  <tbody>\n",
       "    <tr>\n",
       "      <th>count</th>\n",
       "      <td>119390.000000</td>\n",
       "      <td>119390.000000</td>\n",
       "      <td>119390.000000</td>\n",
       "      <td>119390.000000</td>\n",
       "      <td>119390.000000</td>\n",
       "      <td>119390.000000</td>\n",
       "      <td>119390.000000</td>\n",
       "      <td>119390.000000</td>\n",
       "      <td>119386.000000</td>\n",
       "      <td>119390.000000</td>\n",
       "      <td>119390.000000</td>\n",
       "      <td>119390.000000</td>\n",
       "      <td>119390.000000</td>\n",
       "      <td>119390.000000</td>\n",
       "      <td>103050.000000</td>\n",
       "      <td>6797.000000</td>\n",
       "      <td>119390.000000</td>\n",
       "      <td>119390.000000</td>\n",
       "      <td>119390.000000</td>\n",
       "      <td>119390.000000</td>\n",
       "    </tr>\n",
       "    <tr>\n",
       "      <th>mean</th>\n",
       "      <td>0.370416</td>\n",
       "      <td>104.011416</td>\n",
       "      <td>2016.156554</td>\n",
       "      <td>27.165173</td>\n",
       "      <td>15.798241</td>\n",
       "      <td>0.927599</td>\n",
       "      <td>2.500302</td>\n",
       "      <td>1.856403</td>\n",
       "      <td>0.103890</td>\n",
       "      <td>0.007949</td>\n",
       "      <td>0.031912</td>\n",
       "      <td>0.087118</td>\n",
       "      <td>0.137097</td>\n",
       "      <td>0.221124</td>\n",
       "      <td>86.693382</td>\n",
       "      <td>189.266735</td>\n",
       "      <td>2.321149</td>\n",
       "      <td>101.831122</td>\n",
       "      <td>0.062518</td>\n",
       "      <td>0.571363</td>\n",
       "    </tr>\n",
       "    <tr>\n",
       "      <th>std</th>\n",
       "      <td>0.482918</td>\n",
       "      <td>106.863097</td>\n",
       "      <td>0.707476</td>\n",
       "      <td>13.605138</td>\n",
       "      <td>8.780829</td>\n",
       "      <td>0.998613</td>\n",
       "      <td>1.908286</td>\n",
       "      <td>0.579261</td>\n",
       "      <td>0.398561</td>\n",
       "      <td>0.097436</td>\n",
       "      <td>0.175767</td>\n",
       "      <td>0.844336</td>\n",
       "      <td>1.497437</td>\n",
       "      <td>0.652306</td>\n",
       "      <td>110.774548</td>\n",
       "      <td>131.655015</td>\n",
       "      <td>17.594721</td>\n",
       "      <td>50.535790</td>\n",
       "      <td>0.245291</td>\n",
       "      <td>0.792798</td>\n",
       "    </tr>\n",
       "    <tr>\n",
       "      <th>min</th>\n",
       "      <td>0.000000</td>\n",
       "      <td>0.000000</td>\n",
       "      <td>2015.000000</td>\n",
       "      <td>1.000000</td>\n",
       "      <td>1.000000</td>\n",
       "      <td>0.000000</td>\n",
       "      <td>0.000000</td>\n",
       "      <td>0.000000</td>\n",
       "      <td>0.000000</td>\n",
       "      <td>0.000000</td>\n",
       "      <td>0.000000</td>\n",
       "      <td>0.000000</td>\n",
       "      <td>0.000000</td>\n",
       "      <td>0.000000</td>\n",
       "      <td>1.000000</td>\n",
       "      <td>6.000000</td>\n",
       "      <td>0.000000</td>\n",
       "      <td>-6.380000</td>\n",
       "      <td>0.000000</td>\n",
       "      <td>0.000000</td>\n",
       "    </tr>\n",
       "    <tr>\n",
       "      <th>25%</th>\n",
       "      <td>0.000000</td>\n",
       "      <td>18.000000</td>\n",
       "      <td>2016.000000</td>\n",
       "      <td>16.000000</td>\n",
       "      <td>8.000000</td>\n",
       "      <td>0.000000</td>\n",
       "      <td>1.000000</td>\n",
       "      <td>2.000000</td>\n",
       "      <td>0.000000</td>\n",
       "      <td>0.000000</td>\n",
       "      <td>0.000000</td>\n",
       "      <td>0.000000</td>\n",
       "      <td>0.000000</td>\n",
       "      <td>0.000000</td>\n",
       "      <td>9.000000</td>\n",
       "      <td>62.000000</td>\n",
       "      <td>0.000000</td>\n",
       "      <td>69.290000</td>\n",
       "      <td>0.000000</td>\n",
       "      <td>0.000000</td>\n",
       "    </tr>\n",
       "    <tr>\n",
       "      <th>50%</th>\n",
       "      <td>0.000000</td>\n",
       "      <td>69.000000</td>\n",
       "      <td>2016.000000</td>\n",
       "      <td>28.000000</td>\n",
       "      <td>16.000000</td>\n",
       "      <td>1.000000</td>\n",
       "      <td>2.000000</td>\n",
       "      <td>2.000000</td>\n",
       "      <td>0.000000</td>\n",
       "      <td>0.000000</td>\n",
       "      <td>0.000000</td>\n",
       "      <td>0.000000</td>\n",
       "      <td>0.000000</td>\n",
       "      <td>0.000000</td>\n",
       "      <td>14.000000</td>\n",
       "      <td>179.000000</td>\n",
       "      <td>0.000000</td>\n",
       "      <td>94.575000</td>\n",
       "      <td>0.000000</td>\n",
       "      <td>0.000000</td>\n",
       "    </tr>\n",
       "    <tr>\n",
       "      <th>75%</th>\n",
       "      <td>1.000000</td>\n",
       "      <td>160.000000</td>\n",
       "      <td>2017.000000</td>\n",
       "      <td>38.000000</td>\n",
       "      <td>23.000000</td>\n",
       "      <td>2.000000</td>\n",
       "      <td>3.000000</td>\n",
       "      <td>2.000000</td>\n",
       "      <td>0.000000</td>\n",
       "      <td>0.000000</td>\n",
       "      <td>0.000000</td>\n",
       "      <td>0.000000</td>\n",
       "      <td>0.000000</td>\n",
       "      <td>0.000000</td>\n",
       "      <td>229.000000</td>\n",
       "      <td>270.000000</td>\n",
       "      <td>0.000000</td>\n",
       "      <td>126.000000</td>\n",
       "      <td>0.000000</td>\n",
       "      <td>1.000000</td>\n",
       "    </tr>\n",
       "    <tr>\n",
       "      <th>max</th>\n",
       "      <td>1.000000</td>\n",
       "      <td>737.000000</td>\n",
       "      <td>2017.000000</td>\n",
       "      <td>53.000000</td>\n",
       "      <td>31.000000</td>\n",
       "      <td>19.000000</td>\n",
       "      <td>50.000000</td>\n",
       "      <td>55.000000</td>\n",
       "      <td>10.000000</td>\n",
       "      <td>10.000000</td>\n",
       "      <td>1.000000</td>\n",
       "      <td>26.000000</td>\n",
       "      <td>72.000000</td>\n",
       "      <td>21.000000</td>\n",
       "      <td>535.000000</td>\n",
       "      <td>543.000000</td>\n",
       "      <td>391.000000</td>\n",
       "      <td>5400.000000</td>\n",
       "      <td>8.000000</td>\n",
       "      <td>5.000000</td>\n",
       "    </tr>\n",
       "  </tbody>\n",
       "</table>\n",
       "</div>"
      ],
      "text/plain": [
       "         is_canceled      lead_time  arrival_date_year  \\\n",
       "count  119390.000000  119390.000000      119390.000000   \n",
       "mean        0.370416     104.011416        2016.156554   \n",
       "std         0.482918     106.863097           0.707476   \n",
       "min         0.000000       0.000000        2015.000000   \n",
       "25%         0.000000      18.000000        2016.000000   \n",
       "50%         0.000000      69.000000        2016.000000   \n",
       "75%         1.000000     160.000000        2017.000000   \n",
       "max         1.000000     737.000000        2017.000000   \n",
       "\n",
       "       arrival_date_week_number  arrival_date_day_of_month  \\\n",
       "count             119390.000000              119390.000000   \n",
       "mean                  27.165173                  15.798241   \n",
       "std                   13.605138                   8.780829   \n",
       "min                    1.000000                   1.000000   \n",
       "25%                   16.000000                   8.000000   \n",
       "50%                   28.000000                  16.000000   \n",
       "75%                   38.000000                  23.000000   \n",
       "max                   53.000000                  31.000000   \n",
       "\n",
       "       stays_in_weekend_nights  stays_in_week_nights         adults  \\\n",
       "count            119390.000000         119390.000000  119390.000000   \n",
       "mean                  0.927599              2.500302       1.856403   \n",
       "std                   0.998613              1.908286       0.579261   \n",
       "min                   0.000000              0.000000       0.000000   \n",
       "25%                   0.000000              1.000000       2.000000   \n",
       "50%                   1.000000              2.000000       2.000000   \n",
       "75%                   2.000000              3.000000       2.000000   \n",
       "max                  19.000000             50.000000      55.000000   \n",
       "\n",
       "            children         babies  is_repeated_guest  \\\n",
       "count  119386.000000  119390.000000      119390.000000   \n",
       "mean        0.103890       0.007949           0.031912   \n",
       "std         0.398561       0.097436           0.175767   \n",
       "min         0.000000       0.000000           0.000000   \n",
       "25%         0.000000       0.000000           0.000000   \n",
       "50%         0.000000       0.000000           0.000000   \n",
       "75%         0.000000       0.000000           0.000000   \n",
       "max        10.000000      10.000000           1.000000   \n",
       "\n",
       "       previous_cancellations  previous_bookings_not_canceled  \\\n",
       "count           119390.000000                   119390.000000   \n",
       "mean                 0.087118                        0.137097   \n",
       "std                  0.844336                        1.497437   \n",
       "min                  0.000000                        0.000000   \n",
       "25%                  0.000000                        0.000000   \n",
       "50%                  0.000000                        0.000000   \n",
       "75%                  0.000000                        0.000000   \n",
       "max                 26.000000                       72.000000   \n",
       "\n",
       "       booking_changes          agent      company  days_in_waiting_list  \\\n",
       "count    119390.000000  103050.000000  6797.000000         119390.000000   \n",
       "mean          0.221124      86.693382   189.266735              2.321149   \n",
       "std           0.652306     110.774548   131.655015             17.594721   \n",
       "min           0.000000       1.000000     6.000000              0.000000   \n",
       "25%           0.000000       9.000000    62.000000              0.000000   \n",
       "50%           0.000000      14.000000   179.000000              0.000000   \n",
       "75%           0.000000     229.000000   270.000000              0.000000   \n",
       "max          21.000000     535.000000   543.000000            391.000000   \n",
       "\n",
       "                 adr  required_car_parking_spaces  total_of_special_requests  \n",
       "count  119390.000000                119390.000000              119390.000000  \n",
       "mean      101.831122                     0.062518                   0.571363  \n",
       "std        50.535790                     0.245291                   0.792798  \n",
       "min        -6.380000                     0.000000                   0.000000  \n",
       "25%        69.290000                     0.000000                   0.000000  \n",
       "50%        94.575000                     0.000000                   0.000000  \n",
       "75%       126.000000                     0.000000                   1.000000  \n",
       "max      5400.000000                     8.000000                   5.000000  "
      ]
     },
     "execution_count": 9,
     "metadata": {},
     "output_type": "execute_result"
    }
   ],
   "source": [
    "hotel_data.describe()"
   ]
  },
  {
   "cell_type": "code",
   "execution_count": 10,
   "metadata": {},
   "outputs": [
    {
     "data": {
      "text/plain": [
       "children         4\n",
       "country        488\n",
       "agent        16340\n",
       "company     112593\n",
       "dtype: int64"
      ]
     },
     "execution_count": 10,
     "metadata": {},
     "output_type": "execute_result"
    }
   ],
   "source": [
    "# Columns with null values\n",
    "hotel_null_cols = hotel_data.isnull().sum()\n",
    "hotel_null_cols[hotel_null_cols > 0]"
   ]
  },
  {
   "cell_type": "markdown",
   "metadata": {},
   "source": [
    "# Basic cleaning\n",
    "\n",
    "Based on the data review above, it shows that there are null values for certain columns. Since there are only 5 unique input types for `children`, the null values will be replaced with the median value. Whereas for `agent` and `company`, the null values will be replaced with zero and for `country`, the null values will be replaced with 'Unknown'. Additional data cleaning include standardising certain values and dropping rows with no meaningful data."
   ]
  },
  {
   "cell_type": "code",
   "execution_count": 11,
   "metadata": {
    "scrolled": false
   },
   "outputs": [
    {
     "data": {
      "image/png": "[encoded data removed]",
      "text/plain": [
       "<Figure size 864x576 with 1 Axes>"
      ]
     },
     "metadata": {
      "needs_background": "light"
     },
     "output_type": "display_data"
    }
   ],
   "source": [
    "plt.figure(figsize = (12, 8))\n",
    "\n",
    "# Plot the distribution of the children column\n",
    "ax = sns.countplot(data = hotel_data, x = 'children')\n",
    "\n",
    "# Add labels to the bars\n",
    "for p in ax.patches:\n",
    "    ax.annotate(format(p.get_height(), '.0f'),\n",
    "                (p.get_x() + p.get_width() / 2., p.get_height()),\n",
    "                ha = 'center', va = 'center',\n",
    "                xytext = (0, 10),\n",
    "                textcoords = 'offset points',\n",
    "                fontsize = 12)\n",
    "\n",
    "# Customise the plot\n",
    "ax.set_xlabel('Number of children', fontsize = 14)\n",
    "ax.set_ylabel('Count', fontsize = 14)\n",
    "ax.set_title('Distribution of the number of children', fontsize = 16, fontweight = 'bold')\n",
    "plt.xticks(fontsize = 12)\n",
    "plt.yticks(fontsize = 12)\n",
    "plt.grid(axis = 'y', linestyle = '--', alpha = 0.7)\n",
    "sns.despine(right = True, top = True)\n",
    "\n",
    "plt.show()"
   ]
  },
  {
   "cell_type": "code",
   "execution_count": 12,
   "metadata": {},
   "outputs": [],
   "source": [
    "# Replace the null values\n",
    "hotel_data['children'].fillna(0.0, inplace = True)\n",
    "hotel_data['agent'].fillna(0.0, inplace = True)\n",
    "hotel_data['company'].fillna(0.0, inplace = True)\n",
    "hotel_data['country'].fillna('Unknown', inplace = True)\n",
    "\n",
    "# Standardise 'SC' values to 'Undefined' for the meal column\n",
    "hotel_data['meal'].replace('SC', 'Undefined', inplace = True)\n",
    "\n",
    "# Drop rows with no guests (i.e., 0 adults, 0 children and 0 babies)\n",
    "zero_guests = list(hotel_data.loc[hotel_data['adults'] + hotel_data['children'] + hotel_data['babies'] == 0].index)\n",
    "hotel_data.drop(hotel_data.index[zero_guests], inplace = True)\n",
    "hotel_data.reset_index(drop = True, inplace = True)"
   ]
  },
  {
   "cell_type": "code",
   "execution_count": 13,
   "metadata": {},
   "outputs": [
    {
     "data": {
      "text/plain": [
       "Series([], dtype: int64)"
      ]
     },
     "execution_count": 13,
     "metadata": {},
     "output_type": "execute_result"
    }
   ],
   "source": [
    "# Review the columns with null values\n",
    "hotel_null_cols = hotel_data.isnull().sum()\n",
    "hotel_null_cols[hotel_null_cols > 0]"
   ]
  },
  {
   "cell_type": "code",
   "execution_count": 14,
   "metadata": {},
   "outputs": [],
   "source": [
    "# Create different datasets for Combined, Resort and City hotels\n",
    "combined = hotel_data.copy(deep = True)\n",
    "resort = combined[combined['hotel'] == 'Resort Hotel']\n",
    "city = combined[combined['hotel'] == 'City Hotel']"
   ]
  },
  {
   "cell_type": "markdown",
   "metadata": {},
   "source": [
    "# Exploratory data analysis\n",
    "\n",
    "Before deploying the models, we need to conduct an exploratory data analysis to better understand the data. In this exploration, we'll be considering the following related to the business questions:\n",
    "* Resort Hotel dataset vs City Hotel dataset\n",
    "* The distribution of guests' home country\n",
    "* The number of bookings by market segment\n",
    "* The number of cancellations by hotel type\n",
    "* The percentage of cancellations by month and hotel type"
   ]
  },
  {
   "cell_type": "markdown",
   "metadata": {},
   "source": [
    "## Resort Hotel vs City Hotel"
   ]
  },
  {
   "cell_type": "code",
   "execution_count": 15,
   "metadata": {},
   "outputs": [
    {
     "data": {
      "text/plain": [
       "0.51"
      ]
     },
     "execution_count": 15,
     "metadata": {},
     "output_type": "execute_result"
    }
   ],
   "source": [
    "round(len(resort) / len(city), 2)"
   ]
  },
  {
   "cell_type": "markdown",
   "metadata": {},
   "source": [
    "Based on the result, it shows that:\n",
    "* Resort Hotel — accounts for **1/3** of the entire dataset\n",
    "* City Hotel — accounts for **2/3** of the entire dataset"
   ]
  },
  {
   "cell_type": "markdown",
   "metadata": {},
   "source": [
    "## Distribution of guests' home country"
   ]
  },
  {
   "cell_type": "code",
   "execution_count": 16,
   "metadata": {},
   "outputs": [],
   "source": [
    "# Get the number of guests by country\n",
    "# Note: Only bookings that were not cancelled are included\n",
    "country_data = pd.DataFrame(combined[combined['is_canceled'] == 0]['country'].value_counts())\n",
    "country_data.rename(columns = {'country': 'Number of guests'}, inplace = True)\n",
    "\n",
    "country_data['Country'] = country_data.index\n",
    "country_data = country_data.loc[:, ['Country', 'Number of guests']].reset_index(drop = True)"
   ]
  },
  {
   "cell_type": "code",
   "execution_count": 17,
   "metadata": {},
   "outputs": [],
   "source": [
    "# Get the top countries\n",
    "n_top_countries = 10\n",
    "top_countries = country_data.nlargest(n_top_countries, 'Number of guests')\n",
    "\n",
    "# Bucket the remaining countries under 'Others'\n",
    "other_countries = country_data.loc[~country_data.index.isin(top_countries.index), 'Number of guests'].sum()\n",
    "other_countries = pd.DataFrame({'Country': ['Others'], 'Number of guests': [other_countries]})\n",
    "\n",
    "country_data_v2 = pd.concat([top_countries, other_countries]).reset_index(drop = True)"
   ]
  },
  {
   "cell_type": "code",
   "execution_count": 18,
   "metadata": {
    "scrolled": false
   },
   "outputs": [
    {
     "data": {
      "image/png": "[encoded data removed]",
      "text/plain": [
       "<Figure size 864x576 with 1 Axes>"
      ]
     },
     "metadata": {
      "needs_background": "light"
     },
     "output_type": "display_data"
    }
   ],
   "source": [
    "fig, ax = plt.subplots(figsize = (12, 8))\n",
    "\n",
    "# Plot the number of guests for each country\n",
    "sns.barplot(x = 'Country', y = 'Number of guests', data = country_data_v2, palette = 'Blues_r')\n",
    "ax.set_xlabel('Country', fontsize = 14)\n",
    "ax.set_ylabel('Number of guests', fontsize = 14)\n",
    "ax.set_title(f'Top {n_top_countries} countries by number of guests', fontsize = 16, fontweight = 'bold')\n",
    "\n",
    "# Add labels to the bars\n",
    "for index, row in country_data_v2.iterrows():\n",
    "    ax.text(index, row['Number of guests'] + 500, row['Number of guests'], ha = 'center', fontsize = 12)\n",
    "\n",
    "# Customise the plot\n",
    "plt.xticks(rotation = 45, ha = 'right', fontsize = 12)\n",
    "plt.yticks(fontsize = 12)\n",
    "plt.grid(axis = 'y', linestyle = '--', alpha = 0.7)\n",
    "sns.despine(right = True, top = True)\n",
    "\n",
    "plt.show()"
   ]
  },
  {
   "cell_type": "markdown",
   "metadata": {},
   "source": [
    "The graph above shows that most of the guests come from **Europe**, with the dominant country being *Portugal*. "
   ]
  },
  {
   "cell_type": "markdown",
   "metadata": {},
   "source": [
    "## Number of bookings by market segment"
   ]
  },
  {
   "cell_type": "code",
   "execution_count": 19,
   "metadata": {},
   "outputs": [],
   "source": [
    "# Bookings per market segment\n",
    "# Note: Only bookings that were not cancelled are included\n",
    "segments = combined[combined['is_canceled'] == 0]['market_segment'].value_counts()"
   ]
  },
  {
   "cell_type": "code",
   "execution_count": 20,
   "metadata": {
    "scrolled": false
   },
   "outputs": [
    {
     "data": {
      "image/png": "[encoded data removed]",
      "text/plain": [
       "<Figure size 864x576 with 1 Axes>"
      ]
     },
     "metadata": {
      "needs_background": "light"
     },
     "output_type": "display_data"
    }
   ],
   "source": [
    "fig, ax = plt.subplots(figsize = (12, 8))\n",
    "\n",
    "# Plot the distribution by market segment\n",
    "sns.barplot(x = segments.index, y = segments.values, ax = ax, palette = plt.cm.Paired(range(len(segments))))\n",
    "\n",
    "# Add labels to the bars\n",
    "for i, v in enumerate(segments):\n",
    "    ax.text(i, v + 500, str(v), color = 'black', ha = 'center', fontsize = 12)\n",
    "\n",
    "# Customize the plot\n",
    "ax.set_title('Bookings per market segment', fontsize = 16, fontweight = 'bold')\n",
    "ax.set_xlabel('Market segment', fontsize = 14)\n",
    "ax.set_ylabel('Number of bookings', fontsize = 14)\n",
    "ax.tick_params(axis = 'both', labelsize = 12)\n",
    "plt.xticks(rotation = 45)\n",
    "plt.grid(axis = 'y', linestyle = '--', alpha = 0.7)\n",
    "sns.despine(right = True, top = True)\n",
    "\n",
    "plt.show()"
   ]
  },
  {
   "cell_type": "markdown",
   "metadata": {},
   "source": [
    "The graph above shows that **Online TA** accounts for most of the hotel bookings."
   ]
  },
  {
   "cell_type": "markdown",
   "metadata": {},
   "source": [
    "## Number of cancellations by hotel type"
   ]
  },
  {
   "cell_type": "code",
   "execution_count": 21,
   "metadata": {},
   "outputs": [
    {
     "data": {
      "image/png": "[encoded data removed]",
      "text/plain": [
       "<Figure size 864x576 with 1 Axes>"
      ]
     },
     "metadata": {
      "needs_background": "light"
     },
     "output_type": "display_data"
    }
   ],
   "source": [
    "plt.figure(figsize = (12, 8))\n",
    "\n",
    "# Plot the number of cancellations for each hotel\n",
    "ax = sns.countplot(data = combined, x = 'hotel', hue = 'is_canceled', palette = 'flare')\n",
    "\n",
    "# Add labels to the bars\n",
    "for p in ax.patches:\n",
    "    ax.annotate(format(p.get_height(), '.0f'),\n",
    "                (p.get_x() + p.get_width() / 2., p.get_height()),\n",
    "                ha = 'center', va = 'center',\n",
    "                xytext = (0, 10),\n",
    "                textcoords = 'offset points',\n",
    "                fontsize = 12)\n",
    "\n",
    "# Modify the legend\n",
    "handles, labels = ax.get_legend_handles_labels()\n",
    "new_labels = ['Not cancelled', 'Cancelled']\n",
    "ax.legend(handles, new_labels, title = 'Cancellation', fontsize = 12, title_fontsize = 12)\n",
    "\n",
    "# Customise the plot\n",
    "ax.set_xlabel('Hotel', fontsize = 14)\n",
    "ax.set_ylabel('Count', fontsize = 14)\n",
    "ax.set_title('Number of cancellations by hotel type', fontsize = 16, fontweight = 'bold')\n",
    "plt.xticks(fontsize = 12)\n",
    "plt.yticks(fontsize = 12)\n",
    "plt.grid(axis = 'y', linestyle = '--', alpha = 0.7)\n",
    "sns.despine(right = True, top = True)\n",
    "\n",
    "plt.show()"
   ]
  },
  {
   "cell_type": "markdown",
   "metadata": {},
   "source": [
    "The graph above shows that **City Hotel accounts for a sizeable portion of booking cancellations**."
   ]
  },
  {
   "cell_type": "markdown",
   "metadata": {},
   "source": [
    "## Percentage of cancellations by month and hotel type"
   ]
  },
  {
   "cell_type": "code",
   "execution_count": 22,
   "metadata": {},
   "outputs": [],
   "source": [
    "# Get the % cancellation for Combined, Resort and City hotels\n",
    "combined_book_per_month = combined.groupby('arrival_date_month')['hotel'].count()\n",
    "combined_cancel_per_month = combined.groupby('arrival_date_month')['is_canceled'].sum()\n",
    "\n",
    "resort_book_per_month = resort.groupby('arrival_date_month')['hotel'].count()\n",
    "resort_cancel_per_month = resort.groupby('arrival_date_month')['is_canceled'].sum()\n",
    "\n",
    "city_book_per_month = city.groupby('arrival_date_month')['hotel'].count()\n",
    "city_cancel_per_month = city.groupby('arrival_date_month')['is_canceled'].sum()\n",
    "\n",
    "combined_cancel = pd.DataFrame({'Hotel': 'Combined Hotel',\n",
    "                                'Month': list(resort_book_per_month.index),\n",
    "                                'Bookings': list(resort_book_per_month.values),\n",
    "                                'Cancellations': list(resort_cancel_per_month.values)})\n",
    "\n",
    "resort_cancel = pd.DataFrame({'Hotel': 'Resort Hotel',\n",
    "                              'Month': list(resort_book_per_month.index),\n",
    "                              'Bookings': list(resort_book_per_month.values),\n",
    "                              'Cancellations': list(resort_cancel_per_month.values)})\n",
    "\n",
    "city_cancel = pd.DataFrame({'Hotel': 'City Hotel',\n",
    "                            'Month': list(city_book_per_month.index),\n",
    "                            'Bookings': list(city_book_per_month.values),\n",
    "                            'Cancellations': list(city_cancel_per_month.values)})\n",
    "\n",
    "cancel_compile = pd.concat([combined_cancel, resort_cancel, city_cancel], ignore_index = True)\n",
    "cancel_compile['% cancelled'] = cancel_compile['Cancellations'] / cancel_compile['Bookings'] * 100\n",
    "\n",
    "# Order by month\n",
    "ordered_months = ['January', 'February', 'March', 'April', 'May', 'June',\n",
    "                  'July', 'August', 'September', 'October', 'November', 'December']\n",
    "cancel_compile['Month'] = pd.Categorical(cancel_compile['Month'], categories = ordered_months, ordered = True)"
   ]
  },
  {
   "cell_type": "code",
   "execution_count": null,
   "metadata": {},
   "outputs": [],
   "source": [
    "fig, ax = plt.subplots(figsize = (12, 8))\n",
    "color_palette = sns.color_palette('pastel', n_colors = 4)\n",
    "\n",
    "# Plot the % cancellation for Combined Hotel using a line plot\n",
    "sns.lineplot(data = cancel_compile.loc[cancel_compile['Hotel'] == 'Combined Hotel'],\n",
    "             x = 'Month', y = '% cancelled', ax = ax, linewidth = 3, label = 'Combined Hotel')\n",
    "ax.set_title('% cancellations by month and hotel type', fontsize = 16, fontweight = 'bold')\n",
    "ax.set_xlabel('')\n",
    "ax.set_ylabel('% cancelled', fontsize = 14)\n",
    "ax.grid(axis = 'y', linestyle = '--')\n",
    "sns.despine(right = True, top = True, ax = ax)\n",
    "\n",
    "# Plot the % cancellation for the Resort Hotel and City Hotel using a bar plot\n",
    "sns.barplot(x = 'Month', y = '% cancelled', hue = 'Hotel',\n",
    "            hue_order = ['Resort Hotel', 'City Hotel'],\n",
    "            data = cancel_compile.loc[cancel_compile['Hotel'] != 'Combined Hotel'],\n",
    "            ax = ax, palette = color_palette[1:])\n",
    "ax.set_xlabel('Month', fontsize = 14)\n",
    "ax.set_ylabel('% cancelled', fontsize = 14)\n",
    "ax.legend(title = 'Hotel', fontsize = 12, title_fontsize = 12, loc = 'center left', bbox_to_anchor = (1, 0.5))\n",
    "\n",
    "# Add labels to the bars\n",
    "for p in ax.patches:\n",
    "    ax.annotate(f'{p.get_height():.2f}',\n",
    "                (p.get_x() + p.get_width() / 2., p.get_height()),\n",
    "                ha = 'center', va = 'center',\n",
    "                xytext = (0, 10),\n",
    "                textcoords = 'offset points',\n",
    "                fontsize = 12)\n",
    "\n",
    "plt.xticks(rotation = 45)\n",
    "plt.subplots_adjust(right = 0.85)\n",
    "\n",
    "plt.show()"
   ]
  },
  {
   "cell_type": "markdown",
   "metadata": {},
   "source": [
    "The graph above shows that, in general, there's a peak in booking cancellations in the middle of the year from **June to August**. Looking at each hotel separately, Resort Hotel follows the trend of the Combined Hotel, whereas City Hotel has a cancellation rate of around **40%** throughout the year."
   ]
  },
  {
   "cell_type": "markdown",
   "metadata": {},
   "source": [
    "# Data Transformation\n",
    "\n",
    "Next, we need to conduct data transformation to train our models. The following methods will be applied:\n",
    "* Categorical features: One-hot encoding\n",
    "* Numerical features: Z-score standardisation"
   ]
  },
  {
   "cell_type": "markdown",
   "metadata": {},
   "source": [
    "## Select features"
   ]
  },
  {
   "cell_type": "code",
   "execution_count": null,
   "metadata": {},
   "outputs": [],
   "source": [
    "combined['is_canceled'].value_counts()"
   ]
  },
  {
   "cell_type": "code",
   "execution_count": null,
   "metadata": {},
   "outputs": [],
   "source": [
    "combined['reservation_status'].value_counts()"
   ]
  },
  {
   "cell_type": "code",
   "execution_count": null,
   "metadata": {},
   "outputs": [],
   "source": [
    "# 4 columns to be excluded:\n",
    "# - arrival_date_year\n",
    "# - reservation_status: as it has a strong correlation to is_canceled\n",
    "# - reservation_status_date\n",
    "# - country: excluded to make the model more generic\n",
    "\n",
    "num_features = ['lead_time', 'arrival_date_week_number', 'arrival_date_day_of_month',\n",
    "                'stays_in_weekend_nights', 'stays_in_week_nights', 'adults', 'children', 'babies',\n",
    "                'is_repeated_guest', 'previous_cancellations', 'previous_bookings_not_canceled',\n",
    "                'booking_changes', 'agent', 'company', 'days_in_waiting_list', 'required_car_parking_spaces', \n",
    "                'total_of_special_requests', 'adr']\n",
    "\n",
    "cat_features = ['hotel', 'arrival_date_month', 'meal', 'market_segment',\n",
    "                'distribution_channel', 'reserved_room_type', 'assigned_room_type',\n",
    "                'deposit_type', 'customer_type']\n",
    "\n",
    "all_features = num_features + cat_features\n",
    "target_var = ['is_canceled']"
   ]
  },
  {
   "cell_type": "code",
   "execution_count": null,
   "metadata": {},
   "outputs": [],
   "source": [
    "# Check - 5 includes the 4 excluded columns plus the is_canceled target variable\n",
    "len(combined.columns) == len(all_features) + len(target_var) + 4"
   ]
  },
  {
   "cell_type": "markdown",
   "metadata": {},
   "source": [
    "## Transform features"
   ]
  },
  {
   "cell_type": "markdown",
   "metadata": {},
   "source": [
    "### Numerical features"
   ]
  },
  {
   "cell_type": "code",
   "execution_count": null,
   "metadata": {},
   "outputs": [],
   "source": [
    "# Apply z-score standardisation\n",
    "# Combined - For clustering / customer segmentation\n",
    "combined_transform = combined.copy(deep = True)\n",
    "combined_transform = combined_transform.loc[:, all_features + target_var]\n",
    "combined_transform[num_features + target_var] = preprocessing.scale(combined_transform[num_features + target_var])\n",
    "\n",
    "# Combined - For classification / booking cancellation prediction\n",
    "x_combined = combined.loc[:, all_features]\n",
    "x_combined[num_features] = preprocessing.scale(x_combined[num_features])\n",
    "y_combined = combined.loc[:, target_var]\n",
    "\n",
    "# Resort \n",
    "x_resort = resort.loc[:, all_features]\n",
    "x_resort[num_features] = preprocessing.scale(x_resort[num_features])\n",
    "y_resort = resort.loc[:, target_var]\n",
    "\n",
    "# City \n",
    "x_city = city.loc[:, all_features]\n",
    "x_city[num_features] = preprocessing.scale(x_city[num_features])\n",
    "y_city = city.loc[:, target_var]"
   ]
  },
  {
   "cell_type": "markdown",
   "metadata": {},
   "source": [
    "### Categorical features"
   ]
  },
  {
   "cell_type": "code",
   "execution_count": null,
   "metadata": {},
   "outputs": [],
   "source": [
    "# For arrival_date_month\n",
    "months_mapping = {'January': 1, 'February': 2, 'March': 3, 'April': 4, 'May': 5, 'June': 6, \n",
    "                  'July': 7, 'August': 8, 'September': 9, 'October': 10, 'November': 11, 'December': 12}\n",
    "\n",
    "# Combined\n",
    "combined_transform.loc[:, 'arrival_date_month'] = combined_transform['arrival_date_month'].replace(months_mapping)\n",
    "x_combined.loc[:, 'arrival_date_month'] = x_combined['arrival_date_month'].replace(months_mapping)\n",
    "\n",
    "# Resort\n",
    "x_resort.loc[:, 'arrival_date_month'] = x_resort['arrival_date_month'].replace(months_mapping)\n",
    "\n",
    "# City\n",
    "x_city.loc[:, 'arrival_date_month'] = x_city['arrival_date_month'].replace(months_mapping)"
   ]
  },
  {
   "cell_type": "code",
   "execution_count": null,
   "metadata": {},
   "outputs": [],
   "source": [
    "# One-hot encode the remaining categorical features\n",
    "# For Combined Hotel dataset\n",
    "cat_features_full = ['hotel', 'meal', 'market_segment', 'distribution_channel', \n",
    "                     'reserved_room_type', 'assigned_room_type', 'deposit_type', \n",
    "                     'customer_type']\n",
    "\n",
    "# For Resort and City Hotel datasets (remove hotel column)\n",
    "cat_features_split = ['meal', 'market_segment', 'distribution_channel', \n",
    "                     'reserved_room_type', 'assigned_room_type', 'deposit_type', \n",
    "                     'customer_type']\n",
    "\n",
    "# Combined\n",
    "combined_transform = pd.get_dummies(combined_transform, columns = cat_features_full)\n",
    "x_combined = pd.get_dummies(x_combined, columns = cat_features_full)\n",
    "\n",
    "# Resort\n",
    "x_resort = x_resort.drop(columns = ['hotel'])\n",
    "x_resort = pd.get_dummies(x_resort, columns = cat_features_split)\n",
    "\n",
    "# City\n",
    "x_city = x_city.drop(columns = ['hotel'])\n",
    "x_city = pd.get_dummies(x_city, columns = cat_features_split)"
   ]
  },
  {
   "cell_type": "markdown",
   "metadata": {},
   "source": [
    "**Note**: A few dataframes have been created for the reasons below:\n",
    "* `combined_transform`: For clustering and determining the important customer segments\n",
    "* `x_` and `y_`: For developing the classification model and predicting booking cancellations"
   ]
  },
  {
   "cell_type": "markdown",
   "metadata": {},
   "source": [
    "# Customer segmentation\n",
    "\n",
    "**K-Means++ clustering** will be used to segment the customers and determine the key features involved in the segmentation."
   ]
  },
  {
   "cell_type": "markdown",
   "metadata": {},
   "source": [
    "## Finding the optimal K"
   ]
  },
  {
   "cell_type": "code",
   "execution_count": 31,
   "metadata": {},
   "outputs": [],
   "source": [
    "# Compute the sum of squared distances for each k value\n",
    "sse = []\n",
    "k_range = range(2, 16)\n",
    "\n",
    "for k in k_range:\n",
    "    km = KMeans(n_clusters = k, init = 'k-means++', random_state = 2023)\n",
    "    km.fit(combined_transform)\n",
    "    sse.append(km.inertia_)"
   ]
  },
  {
   "cell_type": "code",
   "execution_count": 32,
   "metadata": {
    "scrolled": false
   },
   "outputs": [
    {
     "data": {
      "image/png": "[encoded data removed]",
      "text/plain": [
       "<Figure size 864x576 with 1 Axes>"
      ]
     },
     "metadata": {
      "needs_background": "light"
     },
     "output_type": "display_data"
    }
   ],
   "source": [
    "fig, ax = plt.subplots(figsize = (12, 8))\n",
    "\n",
    "# Plot the sum of squared distances for each k value\n",
    "ax.plot(k_range, sse, marker = 'o')\n",
    "ax.set_title('Elbow method for K-Means++ clustering', fontsize = 16, fontweight = 'bold')\n",
    "ax.set_xlabel('Number of clusters (K)', fontsize = 14)\n",
    "ax.set_ylabel('Sum of squared distances', fontsize = 14)\n",
    "ax.set_xticks(k_range)\n",
    "ax.grid(True, alpha = 0.5)\n",
    "ax.spines['top'].set_visible(False)\n",
    "ax.spines['right'].set_visible(False)\n",
    "\n",
    "plt.show()"
   ]
  },
  {
   "cell_type": "markdown",
   "metadata": {},
   "source": [
    "The graph above shows that the optimal number of clusters is **11** as there is a slope change from steep to shallow at this point."
   ]
  },
  {
   "cell_type": "markdown",
   "metadata": {},
   "source": [
    "## Getting the clusters"
   ]
  },
  {
   "cell_type": "code",
   "execution_count": 33,
   "metadata": {},
   "outputs": [],
   "source": [
    "k_optimal = 11\n",
    "\n",
    "# Fit the K-Means++ model with the optimal number of clusters\n",
    "km = KMeans(n_clusters = k_optimal, init = 'k-means++', random_state = 2023)\n",
    "\n",
    "# Get the cluster IDs for each data point\n",
    "clusters = km.fit_predict(combined_transform)\n",
    "\n",
    "# Add cluster IDs to the transformed Combined Hotel dataset\n",
    "combined_clusters = combined_transform.copy(deep = True)\n",
    "combined_clusters['cluster_id'] = clusters"
   ]
  },
  {
   "cell_type": "code",
   "execution_count": 34,
   "metadata": {},
   "outputs": [
    {
     "name": "stdout",
     "output_type": "stream",
     "text": [
      "4     25847\n",
      "9     22849\n",
      "3     20390\n",
      "7     20070\n",
      "2     12102\n",
      "1      8731\n",
      "0      4494\n",
      "5      2900\n",
      "6       917\n",
      "10      765\n",
      "8       145\n",
      "Name: cluster_id, dtype: int64\n"
     ]
    }
   ],
   "source": [
    "print(combined_clusters['cluster_id'].value_counts())"
   ]
  },
  {
   "cell_type": "markdown",
   "metadata": {},
   "source": [
    "## Visualising the clusters"
   ]
  },
  {
   "cell_type": "code",
   "execution_count": 35,
   "metadata": {},
   "outputs": [
    {
     "data": {
      "image/png": "[encoded data removed]",
      "text/plain": [
       "<Figure size 864x576 with 1 Axes>"
      ]
     },
     "metadata": {
      "needs_background": "light"
     },
     "output_type": "display_data"
    }
   ],
   "source": [
    "plt.figure(figsize = (12, 8))\n",
    "\n",
    "# Plot the number of cancellations for each cluster ID\n",
    "ax = sns.countplot(data = combined_clusters, x = 'cluster_id', hue = 'is_canceled', palette = 'flare')\n",
    "\n",
    "# Add labels to the bars\n",
    "for p in ax.patches:\n",
    "    ax.annotate(format(p.get_height(), '.0f'),\n",
    "                (p.get_x() + p.get_width() / 2., p.get_height()),\n",
    "                ha = 'center', va = 'center',\n",
    "                xytext = (0, 10),\n",
    "                textcoords = 'offset points',\n",
    "                fontsize = 12)\n",
    "\n",
    "# Modify the legend\n",
    "handles, labels = ax.get_legend_handles_labels()\n",
    "new_labels = ['Not cancelled', 'Cancelled']\n",
    "ax.legend(handles, new_labels, loc = 'upper right', bbox_to_anchor = (1.2, 1), \n",
    "          title = 'Cancellation', fontsize = 12, title_fontsize = 12)\n",
    "\n",
    "# Customise the plot\n",
    "ax.set_xlabel('Cluster ID', fontsize = 14)\n",
    "ax.set_ylabel('Count', fontsize = 14)\n",
    "ax.set_title('Number of cancellations by cluster ID', fontsize = 16, fontweight = 'bold')\n",
    "plt.xticks(fontsize = 12)\n",
    "plt.yticks(fontsize = 12)\n",
    "plt.grid(axis = 'y', linestyle = '--', alpha = 0.7)\n",
    "sns.despine(right = True, top = True)\n",
    "\n",
    "plt.show()"
   ]
  },
  {
   "cell_type": "markdown",
   "metadata": {},
   "source": [
    "The graph above shows that **cluster 2** has a significant number of hotel booking cancellations, with the number of cancellations outweighing the number of non-cancellations."
   ]
  },
  {
   "cell_type": "markdown",
   "metadata": {},
   "source": [
    "## Key clustering features"
   ]
  },
  {
   "cell_type": "code",
   "execution_count": 36,
   "metadata": {},
   "outputs": [],
   "source": [
    "# Create a dataframe of the centroids for each cluster\n",
    "cluster_centroids = pd.DataFrame(km.cluster_centers_, columns = combined_transform.columns)"
   ]
  },
  {
   "cell_type": "code",
   "execution_count": 37,
   "metadata": {},
   "outputs": [],
   "source": [
    "# Find the range of average feature values across all clusters\n",
    "feature_range = cluster_centroids.max() - cluster_centroids.min()\n",
    "\n",
    "# Get the top feature range\n",
    "top_feature_range = feature_range.sort_values(ascending = False)[:10]"
   ]
  },
  {
   "cell_type": "code",
   "execution_count": 38,
   "metadata": {},
   "outputs": [
    {
     "data": {
      "image/png": "[encoded data removed]",
      "text/plain": [
       "<Figure size 864x576 with 1 Axes>"
      ]
     },
     "metadata": {
      "needs_background": "light"
     },
     "output_type": "display_data"
    }
   ],
   "source": [
    "# Plot the range of average feature values\n",
    "fig, ax = plt.subplots(figsize = (12, 8))\n",
    "\n",
    "ax.bar(top_feature_range.index, top_feature_range.values)\n",
    "ax.set_title('Range of top average feature values', fontsize = 16, fontweight = 'bold')\n",
    "ax.set_xlabel('Features', fontsize = 14)\n",
    "ax.set_ylabel('Range', fontsize = 14)\n",
    "ax.set_xticklabels(top_feature_range.index, rotation = 90, fontsize = 12)\n",
    "ax.tick_params(axis = 'both', labelsize = 12)\n",
    "ax.grid(axis = 'y', linestyle = '--', alpha = 0.7)\n",
    "sns.despine(top = True, right = True)\n",
    "\n",
    "# Add value labels to the bars\n",
    "for i, v in enumerate(top_feature_range.values):\n",
    "    ax.text(i, v + 0.5, str(round(v, 2)), ha = 'center', fontsize = 12)\n",
    "\n",
    "plt.show()"
   ]
  },
  {
   "cell_type": "markdown",
   "metadata": {},
   "source": [
    "In this cluster feature analysis, the top features were derived based on the min-max range of the average feature values of all the cluster centroids. Features with a larger difference in average value between clusters are likely to have a greater impact on clustering.\n",
    "\n",
    "The graph above shows that the number of `previous_cancellations` is a prominent feature for clustering the Combined Hotel dataset."
   ]
  },
  {
   "cell_type": "markdown",
   "metadata": {},
   "source": [
    "# Cancellation prediction\n",
    "\n",
    "To determine the optimal model for predicting booking cancellations, six different models will be tested, namely:\n",
    "* Logistic regression\n",
    "* AdaBoost, with logistic regression as the base model\n",
    "* Decision tree\n",
    "* Random forest\n",
    "* XGBoost\n",
    "* Neural network\n",
    "\n",
    "The evaluation metrics include the following:\n",
    "* Accuracy\n",
    "* Precision\n",
    "* Recall\n",
    "* F1 score\n",
    "* AUC \n",
    "\n",
    "Stratified k-fold (with shuffle) cross-validation will be employed to obtain better accuracy on the metrics scores. The aim is to find the predictive model that performs well across the different metrics. Furthermore, the models will be run on the Combined, Resort and City Hotel datasets to determine whether there are any significant differences in the metric scores."
   ]
  },
  {
   "cell_type": "code",
   "execution_count": 39,
   "metadata": {},
   "outputs": [],
   "source": [
    "x_compile = [x_combined, x_resort, x_city]\n",
    "y_compile = [y_combined, y_resort, y_city]\n",
    "\n",
    "hotel_names = ['Combined', 'Resort', 'City']"
   ]
  },
  {
   "cell_type": "code",
   "execution_count": 40,
   "metadata": {},
   "outputs": [],
   "source": [
    "# Split data into kfolds for cross validation (with shuffle)\n",
    "num_folds = 5\n",
    "skf = StratifiedKFold(n_splits = num_folds, shuffle = True, random_state = 2023)"
   ]
  },
  {
   "cell_type": "code",
   "execution_count": 41,
   "metadata": {},
   "outputs": [],
   "source": [
    "# Define evaluation metrics for cross validation\n",
    "scoring = {'accuracy': make_scorer(accuracy_score),\n",
    "           'precision': make_scorer(precision_score),\n",
    "           'recall': make_scorer(recall_score),\n",
    "           'f1': make_scorer(f1_score),\n",
    "           'auc': make_scorer(roc_auc_score)}"
   ]
  },
  {
   "cell_type": "markdown",
   "metadata": {},
   "source": [
    "## Logistic regression"
   ]
  },
  {
   "cell_type": "markdown",
   "metadata": {},
   "source": [
    "### Basic"
   ]
  },
  {
   "cell_type": "code",
   "execution_count": 42,
   "metadata": {},
   "outputs": [],
   "source": [
    "log_regr = linear_model.LogisticRegression(solver = 'lbfgs', max_iter = 10000, random_state = 2023)"
   ]
  },
  {
   "cell_type": "code",
   "execution_count": 43,
   "metadata": {},
   "outputs": [],
   "source": [
    "log_regr_scores = {\n",
    "    'Hotel': [],\n",
    "    'Accuracy': [],\n",
    "    'Precision': [],\n",
    "    'Recall': [],\n",
    "    'F1-score': [],\n",
    "    'AUC': []\n",
    "}\n",
    "\n",
    "# Logistic regression for each hotel type\n",
    "for i in range(len(x_compile)):\n",
    "    \n",
    "    # Perform cross-validation and calculate evaluation metrics\n",
    "    cv_results = cross_validate(log_regr, x_compile[i], y_compile[i], cv = skf, scoring = scoring)\n",
    "\n",
    "    # Save average evaluation metrics across all folds\n",
    "    log_regr_scores['Hotel'].append(hotel_names[i])\n",
    "    log_regr_scores['Accuracy'].append(round(np.mean(cv_results['test_accuracy']), 2))\n",
    "    log_regr_scores['Precision'].append(round(np.mean(cv_results['test_precision']), 2))\n",
    "    log_regr_scores['Recall'].append(round(np.mean(cv_results['test_recall']), 2))\n",
    "    log_regr_scores['F1-score'].append(round(np.mean(cv_results['test_f1']), 2))\n",
    "    log_regr_scores['AUC'].append(round(np.mean(cv_results['test_auc']), 2))"
   ]
  },
  {
   "cell_type": "code",
   "execution_count": 44,
   "metadata": {},
   "outputs": [],
   "source": [
    "df_log_regr_scores = pd.DataFrame(log_regr_scores).set_index('Hotel')"
   ]
  },
  {
   "cell_type": "markdown",
   "metadata": {},
   "source": [
    "### With AdaBoost"
   ]
  },
  {
   "cell_type": "code",
   "execution_count": 45,
   "metadata": {},
   "outputs": [],
   "source": [
    "ada_log_regr = ensemble.AdaBoostClassifier(base_estimator = log_regr, random_state = 2023)"
   ]
  },
  {
   "cell_type": "code",
   "execution_count": 46,
   "metadata": {},
   "outputs": [],
   "source": [
    "ada_scores = {\n",
    "    'Hotel': [],\n",
    "    'Accuracy': [],\n",
    "    'Precision': [],\n",
    "    'Recall': [],\n",
    "    'F1-score': [],\n",
    "    'AUC': []\n",
    "}\n",
    "\n",
    "# AdaBoost for each hotel type\n",
    "for i in range(len(x_compile)):\n",
    "\n",
    "    # Perform cross-validation and calculate evaluation metrics\n",
    "    cv_results = cross_validate(ada_log_regr, x_compile[i], y_compile[i], cv = skf, scoring = scoring)\n",
    "\n",
    "    # Save average evaluation metrics across all folds\n",
    "    ada_scores['Hotel'].append(hotel_names[i])\n",
    "    ada_scores['Accuracy'].append(round(np.mean(cv_results['test_accuracy']), 2))\n",
    "    ada_scores['Precision'].append(round(np.mean(cv_results['test_precision']), 2))\n",
    "    ada_scores['Recall'].append(round(np.mean(cv_results['test_recall']), 2))\n",
    "    ada_scores['F1-score'].append(round(np.mean(cv_results['test_f1']), 2))\n",
    "    ada_scores['AUC'].append(round(np.mean(cv_results['test_auc']), 2))"
   ]
  },
  {
   "cell_type": "code",
   "execution_count": 47,
   "metadata": {},
   "outputs": [],
   "source": [
    "df_ada_scores = pd.DataFrame(ada_scores).set_index('Hotel')"
   ]
  },
  {
   "cell_type": "markdown",
   "metadata": {},
   "source": [
    "## Decision tree"
   ]
  },
  {
   "cell_type": "code",
   "execution_count": 48,
   "metadata": {},
   "outputs": [],
   "source": [
    "decision_tree = DecisionTreeClassifier(criterion = 'entropy', random_state = 2023)"
   ]
  },
  {
   "cell_type": "code",
   "execution_count": 49,
   "metadata": {
    "scrolled": true
   },
   "outputs": [],
   "source": [
    "decision_tree_scores = {\n",
    "    'Hotel': [],\n",
    "    'Accuracy': [],\n",
    "    'Precision': [],\n",
    "    'Recall': [],\n",
    "    'F1-score': [],\n",
    "    'AUC': []\n",
    "}\n",
    "\n",
    "for i in range(len(x_compile)):\n",
    "\n",
    "    # Perform cross-validation and calculate evaluation metrics\n",
    "    cv_results = cross_validate(decision_tree, x_compile[i], y_compile[i], cv = skf, scoring = scoring)\n",
    "\n",
    "    # Save average evaluation metrics across all folds\n",
    "    decision_tree_scores['Hotel'].append(hotel_names[i])\n",
    "    decision_tree_scores['Accuracy'].append(round(np.mean(cv_results['test_accuracy']), 2))\n",
    "    decision_tree_scores['Precision'].append(round(np.mean(cv_results['test_precision']), 2))\n",
    "    decision_tree_scores['Recall'].append(round(np.mean(cv_results['test_recall']), 2))\n",
    "    decision_tree_scores['F1-score'].append(round(np.mean(cv_results['test_f1']), 2))\n",
    "    decision_tree_scores['AUC'].append(round(np.mean(cv_results['test_auc']), 2))"
   ]
  },
  {
   "cell_type": "code",
   "execution_count": 50,
   "metadata": {},
   "outputs": [],
   "source": [
    "df_decision_tree_scores = pd.DataFrame(decision_tree_scores).set_index('Hotel')"
   ]
  },
  {
   "cell_type": "markdown",
   "metadata": {},
   "source": [
    "## Random forest"
   ]
  },
  {
   "cell_type": "code",
   "execution_count": 51,
   "metadata": {},
   "outputs": [],
   "source": [
    "random_forest = RandomForestClassifier(n_estimators = 10, criterion='entropy', random_state = 2023)"
   ]
  },
  {
   "cell_type": "code",
   "execution_count": 52,
   "metadata": {},
   "outputs": [],
   "source": [
    "random_forest_scores = {\n",
    "    'Hotel': [],\n",
    "    'Accuracy': [],\n",
    "    'Precision': [],\n",
    "    'Recall': [],\n",
    "    'F1-score': [],\n",
    "    'AUC': []\n",
    "}\n",
    "\n",
    "for i in range(len(x_compile)):\n",
    "\n",
    "    # Perform cross-validation and calculate evaluation metrics\n",
    "    cv_results = cross_validate(random_forest, x_compile[i], y_compile[i], cv = skf, scoring = scoring)\n",
    "\n",
    "    # Save average evaluation metrics across all folds\n",
    "    random_forest_scores['Hotel'].append(hotel_names[i])\n",
    "    random_forest_scores['Accuracy'].append(round(np.mean(cv_results['test_accuracy']), 2))\n",
    "    random_forest_scores['Precision'].append(round(np.mean(cv_results['test_precision']), 2))\n",
    "    random_forest_scores['Recall'].append(round(np.mean(cv_results['test_recall']), 2))\n",
    "    random_forest_scores['F1-score'].append(round(np.mean(cv_results['test_f1']), 2))\n",
    "    random_forest_scores['AUC'].append(round(np.mean(cv_results['test_auc']), 2))"
   ]
  },
  {
   "cell_type": "code",
   "execution_count": 53,
   "metadata": {},
   "outputs": [],
   "source": [
    "df_random_forest_scores = pd.DataFrame(random_forest_scores).set_index('Hotel')"
   ]
  },
  {
   "cell_type": "markdown",
   "metadata": {},
   "source": [
    "## XGBoost"
   ]
  },
  {
   "cell_type": "code",
   "execution_count": 54,
   "metadata": {},
   "outputs": [],
   "source": [
    "xgb_model = xgb.XGBClassifier(random_state = 2023)"
   ]
  },
  {
   "cell_type": "code",
   "execution_count": 55,
   "metadata": {},
   "outputs": [
    {
     "name": "stdout",
     "output_type": "stream",
     "text": [
      "[10:32:06] WARNING: /opt/concourse/worker/volumes/live/7a2b9f41-3287-451b-6691-43e9a6c0910f/volume/xgboost-split_1619728204606/work/src/learner.cc:1061: Starting in XGBoost 1.3.0, the default evaluation metric used with the objective 'binary:logistic' was changed from 'error' to 'logloss'. Explicitly set eval_metric if you'd like to restore the old behavior.\n",
      "[10:32:30] WARNING: /opt/concourse/worker/volumes/live/7a2b9f41-3287-451b-6691-43e9a6c0910f/volume/xgboost-split_1619728204606/work/src/learner.cc:1061: Starting in XGBoost 1.3.0, the default evaluation metric used with the objective 'binary:logistic' was changed from 'error' to 'logloss'. Explicitly set eval_metric if you'd like to restore the old behavior.\n",
      "[10:32:59] WARNING: /opt/concourse/worker/volumes/live/7a2b9f41-3287-451b-6691-43e9a6c0910f/volume/xgboost-split_1619728204606/work/src/learner.cc:1061: Starting in XGBoost 1.3.0, the default evaluation metric used with the objective 'binary:logistic' was changed from 'error' to 'logloss'. Explicitly set eval_metric if you'd like to restore the old behavior.\n",
      "[10:33:21] WARNING: /opt/concourse/worker/volumes/live/7a2b9f41-3287-451b-6691-43e9a6c0910f/volume/xgboost-split_1619728204606/work/src/learner.cc:1061: Starting in XGBoost 1.3.0, the default evaluation metric used with the objective 'binary:logistic' was changed from 'error' to 'logloss'. Explicitly set eval_metric if you'd like to restore the old behavior.\n",
      "[10:33:39] WARNING: /opt/concourse/worker/volumes/live/7a2b9f41-3287-451b-6691-43e9a6c0910f/volume/xgboost-split_1619728204606/work/src/learner.cc:1061: Starting in XGBoost 1.3.0, the default evaluation metric used with the objective 'binary:logistic' was changed from 'error' to 'logloss'. Explicitly set eval_metric if you'd like to restore the old behavior.\n",
      "[10:33:56] WARNING: /opt/concourse/worker/volumes/live/7a2b9f41-3287-451b-6691-43e9a6c0910f/volume/xgboost-split_1619728204606/work/src/learner.cc:1061: Starting in XGBoost 1.3.0, the default evaluation metric used with the objective 'binary:logistic' was changed from 'error' to 'logloss'. Explicitly set eval_metric if you'd like to restore the old behavior.\n",
      "[10:34:02] WARNING: /opt/concourse/worker/volumes/live/7a2b9f41-3287-451b-6691-43e9a6c0910f/volume/xgboost-split_1619728204606/work/src/learner.cc:1061: Starting in XGBoost 1.3.0, the default evaluation metric used with the objective 'binary:logistic' was changed from 'error' to 'logloss'. Explicitly set eval_metric if you'd like to restore the old behavior.\n",
      "[10:34:08] WARNING: /opt/concourse/worker/volumes/live/7a2b9f41-3287-451b-6691-43e9a6c0910f/volume/xgboost-split_1619728204606/work/src/learner.cc:1061: Starting in XGBoost 1.3.0, the default evaluation metric used with the objective 'binary:logistic' was changed from 'error' to 'logloss'. Explicitly set eval_metric if you'd like to restore the old behavior.\n",
      "[10:34:13] WARNING: /opt/concourse/worker/volumes/live/7a2b9f41-3287-451b-6691-43e9a6c0910f/volume/xgboost-split_1619728204606/work/src/learner.cc:1061: Starting in XGBoost 1.3.0, the default evaluation metric used with the objective 'binary:logistic' was changed from 'error' to 'logloss'. Explicitly set eval_metric if you'd like to restore the old behavior.\n",
      "[10:34:19] WARNING: /opt/concourse/worker/volumes/live/7a2b9f41-3287-451b-6691-43e9a6c0910f/volume/xgboost-split_1619728204606/work/src/learner.cc:1061: Starting in XGBoost 1.3.0, the default evaluation metric used with the objective 'binary:logistic' was changed from 'error' to 'logloss'. Explicitly set eval_metric if you'd like to restore the old behavior.\n",
      "[10:34:25] WARNING: /opt/concourse/worker/volumes/live/7a2b9f41-3287-451b-6691-43e9a6c0910f/volume/xgboost-split_1619728204606/work/src/learner.cc:1061: Starting in XGBoost 1.3.0, the default evaluation metric used with the objective 'binary:logistic' was changed from 'error' to 'logloss'. Explicitly set eval_metric if you'd like to restore the old behavior.\n",
      "[10:34:36] WARNING: /opt/concourse/worker/volumes/live/7a2b9f41-3287-451b-6691-43e9a6c0910f/volume/xgboost-split_1619728204606/work/src/learner.cc:1061: Starting in XGBoost 1.3.0, the default evaluation metric used with the objective 'binary:logistic' was changed from 'error' to 'logloss'. Explicitly set eval_metric if you'd like to restore the old behavior.\n",
      "[10:34:46] WARNING: /opt/concourse/worker/volumes/live/7a2b9f41-3287-451b-6691-43e9a6c0910f/volume/xgboost-split_1619728204606/work/src/learner.cc:1061: Starting in XGBoost 1.3.0, the default evaluation metric used with the objective 'binary:logistic' was changed from 'error' to 'logloss'. Explicitly set eval_metric if you'd like to restore the old behavior.\n",
      "[10:34:57] WARNING: /opt/concourse/worker/volumes/live/7a2b9f41-3287-451b-6691-43e9a6c0910f/volume/xgboost-split_1619728204606/work/src/learner.cc:1061: Starting in XGBoost 1.3.0, the default evaluation metric used with the objective 'binary:logistic' was changed from 'error' to 'logloss'. Explicitly set eval_metric if you'd like to restore the old behavior.\n",
      "[10:35:08] WARNING: /opt/concourse/worker/volumes/live/7a2b9f41-3287-451b-6691-43e9a6c0910f/volume/xgboost-split_1619728204606/work/src/learner.cc:1061: Starting in XGBoost 1.3.0, the default evaluation metric used with the objective 'binary:logistic' was changed from 'error' to 'logloss'. Explicitly set eval_metric if you'd like to restore the old behavior.\n"
     ]
    }
   ],
   "source": [
    "xgb_scores = {\n",
    "    'Hotel': [],\n",
    "    'Accuracy': [],\n",
    "    'Precision': [],\n",
    "    'Recall': [],\n",
    "    'F1-score': [],\n",
    "    'AUC': []\n",
    "}\n",
    "\n",
    "for i in range(len(x_compile)):\n",
    "\n",
    "    # Perform cross-validation and calculate evaluation metrics\n",
    "    cv_results = cross_validate(xgb_model, x_compile[i], y_compile[i], cv = skf, scoring = scoring)\n",
    "\n",
    "    # Save average evaluation metrics across all folds\n",
    "    xgb_scores['Hotel'].append(hotel_names[i])\n",
    "    xgb_scores['Accuracy'].append(round(np.mean(cv_results['test_accuracy']), 2))\n",
    "    xgb_scores['Precision'].append(round(np.mean(cv_results['test_precision']), 2))\n",
    "    xgb_scores['Recall'].append(round(np.mean(cv_results['test_recall']), 2))\n",
    "    xgb_scores['F1-score'].append(round(np.mean(cv_results['test_f1']), 2))\n",
    "    xgb_scores['AUC'].append(round(np.mean(cv_results['test_auc']), 2))"
   ]
  },
  {
   "cell_type": "code",
   "execution_count": 56,
   "metadata": {},
   "outputs": [],
   "source": [
    "df_xgb_scores = pd.DataFrame(xgb_scores).set_index('Hotel')"
   ]
  },
  {
   "cell_type": "markdown",
   "metadata": {},
   "source": [
    "## Neural network"
   ]
  },
  {
   "cell_type": "code",
   "execution_count": 57,
   "metadata": {},
   "outputs": [],
   "source": [
    "# Create a function to define the neural network architecture\n",
    "def create_nn(input_shape):\n",
    "    model = Sequential([\n",
    "        Dense(32, activation = 'relu', input_dim = input_shape),\n",
    "        Dense(64, activation = 'relu'),\n",
    "        Dense(256, activation = 'relu'),\n",
    "        Dense(128, activation = 'relu'),\n",
    "        Dense(48, activation = 'relu'),\n",
    "        Dropout(0.1),\n",
    "        Dense(12, activation = 'relu'),\n",
    "        Dense(1, activation = 'sigmoid')\n",
    "    ])\n",
    "    \n",
    "    model.compile(loss = 'binary_crossentropy', optimizer = 'adam', metrics = ['accuracy'])\n",
    "    return model"
   ]
  },
  {
   "cell_type": "code",
   "execution_count": 58,
   "metadata": {},
   "outputs": [],
   "source": [
    "nn_scores = {\n",
    "    'Hotel': [],\n",
    "    'Accuracy': [],\n",
    "    'Precision': [],\n",
    "    'Recall': [],\n",
    "    'F1-score': [],\n",
    "    'AUC': []\n",
    "}\n",
    "\n",
    "for i in range(len(x_compile)):\n",
    "    \n",
    "    # Wrap the neural network function in a KerasClassifier\n",
    "    nn = KerasClassifier(build_fn = create_nn, input_shape = x_compile[i].shape[1], epochs = 25, batch_size = 32, verbose = 0)\n",
    "    \n",
    "    # Perform cross-validation and calculate evaluation metrics\n",
    "    cv_results = cross_validate(nn, x_compile[i], y_compile[i], cv = skf, scoring = scoring)\n",
    "    \n",
    "    # Save average evaluation metrics across all folds\n",
    "    nn_scores['Hotel'].append(hotel_names[i])\n",
    "    nn_scores['Accuracy'].append(round(np.mean(cv_results['test_accuracy']), 2))\n",
    "    nn_scores['Precision'].append(round(np.mean(cv_results['test_precision']), 2))\n",
    "    nn_scores['Recall'].append(round(np.mean(cv_results['test_recall']), 2))\n",
    "    nn_scores['F1-score'].append(round(np.mean(cv_results['test_f1']), 2))\n",
    "    nn_scores['AUC'].append(round(np.mean(cv_results['test_auc']), 2))"
   ]
  },
  {
   "cell_type": "code",
   "execution_count": 59,
   "metadata": {},
   "outputs": [],
   "source": [
    "df_nn_scores = pd.DataFrame(nn_scores).set_index('Hotel')"
   ]
  },
  {
   "cell_type": "markdown",
   "metadata": {},
   "source": [
    "## Model evaluation"
   ]
  },
  {
   "cell_type": "code",
   "execution_count": 60,
   "metadata": {},
   "outputs": [],
   "source": [
    "scores_compile = [df_log_regr_scores, df_ada_scores, df_decision_tree_scores, \n",
    "                  df_random_forest_scores, df_xgb_scores, df_nn_scores]\n",
    "\n",
    "model_names = ['Logistic Regression', 'AdaBoost', 'Decision Tree', \n",
    "              'Random Forest', 'XGBoost', 'Neural Network']"
   ]
  },
  {
   "cell_type": "code",
   "execution_count": 61,
   "metadata": {},
   "outputs": [
    {
     "name": "stdout",
     "output_type": "stream",
     "text": [
      "----------------------------------------\n",
      "Evaluation report for Logistic Regression:\n",
      "          Accuracy  Precision  Recall  F1-score   AUC\n",
      "Hotel                                                \n",
      "Combined      0.81       0.83    0.62      0.71  0.77\n",
      "Resort        0.82       0.75    0.54      0.63  0.74\n",
      "City          0.81       0.85    0.66      0.74  0.79\n",
      "----------------------------------------\n",
      "Evaluation report for AdaBoost:\n",
      "          Accuracy  Precision  Recall  F1-score   AUC\n",
      "Hotel                                                \n",
      "Combined      0.80       0.81    0.59      0.68  0.75\n",
      "Resort        0.81       0.76    0.48      0.59  0.71\n",
      "City          0.80       0.83    0.64      0.72  0.77\n",
      "----------------------------------------\n",
      "Evaluation report for Decision Tree:\n",
      "          Accuracy  Precision  Recall  F1-score   AUC\n",
      "Hotel                                                \n",
      "Combined      0.83       0.77    0.78      0.78  0.82\n",
      "Resort        0.83       0.69    0.71      0.70  0.79\n",
      "City          0.83       0.80    0.80      0.80  0.83\n",
      "----------------------------------------\n",
      "Evaluation report for Random Forest:\n",
      "          Accuracy  Precision  Recall  F1-score   AUC\n",
      "Hotel                                                \n",
      "Combined      0.86       0.87    0.75      0.80  0.84\n",
      "Resort        0.87       0.81    0.67      0.74  0.81\n",
      "City          0.86       0.88    0.78      0.83  0.85\n",
      "----------------------------------------\n",
      "Evaluation report for XGBoost:\n",
      "          Accuracy  Precision  Recall  F1-score   AUC\n",
      "Hotel                                                \n",
      "Combined      0.85       0.86    0.72      0.79  0.83\n",
      "Resort        0.86       0.80    0.69      0.74  0.81\n",
      "City          0.85       0.88    0.76      0.81  0.84\n",
      "----------------------------------------\n",
      "Evaluation report for Neural Network:\n",
      "          Accuracy  Precision  Recall  F1-score   AUC\n",
      "Hotel                                                \n",
      "Combined      0.84       0.83    0.73      0.78  0.82\n",
      "Resort        0.84       0.74    0.65      0.69  0.78\n",
      "City          0.84       0.86    0.74      0.80  0.83\n"
     ]
    }
   ],
   "source": [
    "for i in range(len(scores_compile)):\n",
    "    print('-' * 40)\n",
    "    print('Evaluation report for ' + model_names[i] + ':')\n",
    "    print(scores_compile[i])"
   ]
  },
  {
   "cell_type": "markdown",
   "metadata": {},
   "source": [
    "The metric scores across the three hotel categories — Combined, Resort and City hotels — show little discrepancies in the scores. As such, the metric scores from the **Combined Hotel** dataset will be used to determine the optimal prediction model."
   ]
  },
  {
   "cell_type": "code",
   "execution_count": 62,
   "metadata": {},
   "outputs": [],
   "source": [
    "combined_scores_compile = [df_log_regr_scores.loc['Combined'],\n",
    "                           df_ada_scores.loc['Combined'],\n",
    "                           df_decision_tree_scores.loc['Combined'],\n",
    "                           df_random_forest_scores.loc['Combined'],\n",
    "                           df_xgb_scores.loc['Combined'],\n",
    "                           df_nn_scores.loc['Combined']]"
   ]
  },
  {
   "cell_type": "code",
   "execution_count": 63,
   "metadata": {},
   "outputs": [],
   "source": [
    "combined_scores = pd.concat(combined_scores_compile, axis = 1)\n",
    "combined_scores.columns = model_names"
   ]
  },
  {
   "cell_type": "code",
   "execution_count": 64,
   "metadata": {},
   "outputs": [
    {
     "data": {
      "text/html": [
       "<div>\n",
       "<style scoped>\n",
       "    .dataframe tbody tr th:only-of-type {\n",
       "        vertical-align: middle;\n",
       "    }\n",
       "\n",
       "    .dataframe tbody tr th {\n",
       "        vertical-align: top;\n",
       "    }\n",
       "\n",
       "    .dataframe thead th {\n",
       "        text-align: right;\n",
       "    }\n",
       "</style>\n",
       "<table border=\"1\" class=\"dataframe\">\n",
       "  <thead>\n",
       "    <tr style=\"text-align: right;\">\n",
       "      <th></th>\n",
       "      <th>Logistic Regression</th>\n",
       "      <th>AdaBoost</th>\n",
       "      <th>Decision Tree</th>\n",
       "      <th>Random Forest</th>\n",
       "      <th>XGBoost</th>\n",
       "      <th>Neural Network</th>\n",
       "    </tr>\n",
       "  </thead>\n",
       "  <tbody>\n",
       "    <tr>\n",
       "      <th>Accuracy</th>\n",
       "      <td>0.81</td>\n",
       "      <td>0.80</td>\n",
       "      <td>0.83</td>\n",
       "      <td>0.86</td>\n",
       "      <td>0.85</td>\n",
       "      <td>0.84</td>\n",
       "    </tr>\n",
       "    <tr>\n",
       "      <th>Precision</th>\n",
       "      <td>0.83</td>\n",
       "      <td>0.81</td>\n",
       "      <td>0.77</td>\n",
       "      <td>0.87</td>\n",
       "      <td>0.86</td>\n",
       "      <td>0.83</td>\n",
       "    </tr>\n",
       "    <tr>\n",
       "      <th>Recall</th>\n",
       "      <td>0.62</td>\n",
       "      <td>0.59</td>\n",
       "      <td>0.78</td>\n",
       "      <td>0.75</td>\n",
       "      <td>0.72</td>\n",
       "      <td>0.73</td>\n",
       "    </tr>\n",
       "    <tr>\n",
       "      <th>F1-score</th>\n",
       "      <td>0.71</td>\n",
       "      <td>0.68</td>\n",
       "      <td>0.78</td>\n",
       "      <td>0.80</td>\n",
       "      <td>0.79</td>\n",
       "      <td>0.78</td>\n",
       "    </tr>\n",
       "    <tr>\n",
       "      <th>AUC</th>\n",
       "      <td>0.77</td>\n",
       "      <td>0.75</td>\n",
       "      <td>0.82</td>\n",
       "      <td>0.84</td>\n",
       "      <td>0.83</td>\n",
       "      <td>0.82</td>\n",
       "    </tr>\n",
       "  </tbody>\n",
       "</table>\n",
       "</div>"
      ],
      "text/plain": [
       "           Logistic Regression  AdaBoost  Decision Tree  Random Forest  \\\n",
       "Accuracy                  0.81      0.80           0.83           0.86   \n",
       "Precision                 0.83      0.81           0.77           0.87   \n",
       "Recall                    0.62      0.59           0.78           0.75   \n",
       "F1-score                  0.71      0.68           0.78           0.80   \n",
       "AUC                       0.77      0.75           0.82           0.84   \n",
       "\n",
       "           XGBoost  Neural Network  \n",
       "Accuracy      0.85            0.84  \n",
       "Precision     0.86            0.83  \n",
       "Recall        0.72            0.73  \n",
       "F1-score      0.79            0.78  \n",
       "AUC           0.83            0.82  "
      ]
     },
     "execution_count": 64,
     "metadata": {},
     "output_type": "execute_result"
    }
   ],
   "source": [
    "combined_scores"
   ]
  },
  {
   "cell_type": "markdown",
   "metadata": {},
   "source": [
    "From the report above, it shows that **random forest** performs best among all the models across the various evaluation metrics. Hence, we will use the random forest model trained with the Combined Hotel dataset and explore the relationships between the features and the `is_canceled` target variable."
   ]
  },
  {
   "cell_type": "markdown",
   "metadata": {},
   "source": [
    "## Evaluating the features"
   ]
  },
  {
   "cell_type": "code",
   "execution_count": 65,
   "metadata": {},
   "outputs": [
    {
     "name": "stdout",
     "output_type": "stream",
     "text": [
      "Feature ranking for Combined Hotel:\n",
      "1. lead_time (0.137667)\n",
      "2. adr (0.095236)\n",
      "3. deposit_type_Non Refund (0.091115)\n",
      "4. arrival_date_day_of_month (0.073279)\n",
      "5. deposit_type_No Deposit (0.068556)\n",
      "6. arrival_date_week_number (0.064302)\n",
      "7. total_of_special_requests (0.049492)\n",
      "8. stays_in_week_nights (0.044184)\n",
      "9. agent (0.043070)\n",
      "10. arrival_date_month (0.038528)\n"
     ]
    }
   ],
   "source": [
    "random_forest.fit(x_compile[0], y_compile[0])\n",
    "    \n",
    "# Get the feature importances\n",
    "importances = random_forest.feature_importances_\n",
    "    \n",
    "# Sort the importances in descending order\n",
    "indices = np.argsort(importances)[::-1]\n",
    "    \n",
    "# Print the top features for the Combined Hotel dataset\n",
    "print('Feature ranking for ' + hotel_names[0] + ' Hotel:')\n",
    "for f in range(10):\n",
    "    print('%d. %s (%f)' % (f + 1, x_compile[0].columns[indices[f]], importances[indices[f]]))"
   ]
  },
  {
   "cell_type": "markdown",
   "metadata": {},
   "source": [
    "The top three features of random forest model are:\n",
    "* `lead_time`\n",
    "* `adr`\n",
    "* `deposit_type`"
   ]
  },
  {
   "cell_type": "markdown",
   "metadata": {},
   "source": [
    "### Lead time"
   ]
  },
  {
   "cell_type": "code",
   "execution_count": 66,
   "metadata": {},
   "outputs": [],
   "source": [
    "# Group the hotel dataset by lead time and calculate the summary statistics\n",
    "lead_cancel_data = hotel_data.groupby('lead_time')['is_canceled'].describe()"
   ]
  },
  {
   "cell_type": "code",
   "execution_count": 67,
   "metadata": {},
   "outputs": [
    {
     "data": {
      "text/html": [
       "<div>\n",
       "<style scoped>\n",
       "    .dataframe tbody tr th:only-of-type {\n",
       "        vertical-align: middle;\n",
       "    }\n",
       "\n",
       "    .dataframe tbody tr th {\n",
       "        vertical-align: top;\n",
       "    }\n",
       "\n",
       "    .dataframe thead th {\n",
       "        text-align: right;\n",
       "    }\n",
       "</style>\n",
       "<table border=\"1\" class=\"dataframe\">\n",
       "  <thead>\n",
       "    <tr style=\"text-align: right;\">\n",
       "      <th></th>\n",
       "      <th>count</th>\n",
       "      <th>mean</th>\n",
       "      <th>std</th>\n",
       "      <th>min</th>\n",
       "      <th>25%</th>\n",
       "      <th>50%</th>\n",
       "      <th>75%</th>\n",
       "      <th>max</th>\n",
       "    </tr>\n",
       "    <tr>\n",
       "      <th>lead_time</th>\n",
       "      <th></th>\n",
       "      <th></th>\n",
       "      <th></th>\n",
       "      <th></th>\n",
       "      <th></th>\n",
       "      <th></th>\n",
       "      <th></th>\n",
       "      <th></th>\n",
       "    </tr>\n",
       "  </thead>\n",
       "  <tbody>\n",
       "    <tr>\n",
       "      <th>0</th>\n",
       "      <td>6264.0</td>\n",
       "      <td>0.066571</td>\n",
       "      <td>0.249297</td>\n",
       "      <td>0.0</td>\n",
       "      <td>0.0</td>\n",
       "      <td>0.0</td>\n",
       "      <td>0.0</td>\n",
       "      <td>1.0</td>\n",
       "    </tr>\n",
       "    <tr>\n",
       "      <th>1</th>\n",
       "      <td>3445.0</td>\n",
       "      <td>0.092308</td>\n",
       "      <td>0.289502</td>\n",
       "      <td>0.0</td>\n",
       "      <td>0.0</td>\n",
       "      <td>0.0</td>\n",
       "      <td>0.0</td>\n",
       "      <td>1.0</td>\n",
       "    </tr>\n",
       "    <tr>\n",
       "      <th>2</th>\n",
       "      <td>2065.0</td>\n",
       "      <td>0.103148</td>\n",
       "      <td>0.304225</td>\n",
       "      <td>0.0</td>\n",
       "      <td>0.0</td>\n",
       "      <td>0.0</td>\n",
       "      <td>0.0</td>\n",
       "      <td>1.0</td>\n",
       "    </tr>\n",
       "    <tr>\n",
       "      <th>3</th>\n",
       "      <td>1815.0</td>\n",
       "      <td>0.100275</td>\n",
       "      <td>0.300450</td>\n",
       "      <td>0.0</td>\n",
       "      <td>0.0</td>\n",
       "      <td>0.0</td>\n",
       "      <td>0.0</td>\n",
       "      <td>1.0</td>\n",
       "    </tr>\n",
       "    <tr>\n",
       "      <th>4</th>\n",
       "      <td>1710.0</td>\n",
       "      <td>0.102339</td>\n",
       "      <td>0.303182</td>\n",
       "      <td>0.0</td>\n",
       "      <td>0.0</td>\n",
       "      <td>0.0</td>\n",
       "      <td>0.0</td>\n",
       "      <td>1.0</td>\n",
       "    </tr>\n",
       "    <tr>\n",
       "      <th>...</th>\n",
       "      <td>...</td>\n",
       "      <td>...</td>\n",
       "      <td>...</td>\n",
       "      <td>...</td>\n",
       "      <td>...</td>\n",
       "      <td>...</td>\n",
       "      <td>...</td>\n",
       "      <td>...</td>\n",
       "    </tr>\n",
       "    <tr>\n",
       "      <th>622</th>\n",
       "      <td>17.0</td>\n",
       "      <td>1.000000</td>\n",
       "      <td>0.000000</td>\n",
       "      <td>1.0</td>\n",
       "      <td>1.0</td>\n",
       "      <td>1.0</td>\n",
       "      <td>1.0</td>\n",
       "      <td>1.0</td>\n",
       "    </tr>\n",
       "    <tr>\n",
       "      <th>626</th>\n",
       "      <td>30.0</td>\n",
       "      <td>1.000000</td>\n",
       "      <td>0.000000</td>\n",
       "      <td>1.0</td>\n",
       "      <td>1.0</td>\n",
       "      <td>1.0</td>\n",
       "      <td>1.0</td>\n",
       "      <td>1.0</td>\n",
       "    </tr>\n",
       "    <tr>\n",
       "      <th>629</th>\n",
       "      <td>17.0</td>\n",
       "      <td>1.000000</td>\n",
       "      <td>0.000000</td>\n",
       "      <td>1.0</td>\n",
       "      <td>1.0</td>\n",
       "      <td>1.0</td>\n",
       "      <td>1.0</td>\n",
       "      <td>1.0</td>\n",
       "    </tr>\n",
       "    <tr>\n",
       "      <th>709</th>\n",
       "      <td>1.0</td>\n",
       "      <td>0.000000</td>\n",
       "      <td>NaN</td>\n",
       "      <td>0.0</td>\n",
       "      <td>0.0</td>\n",
       "      <td>0.0</td>\n",
       "      <td>0.0</td>\n",
       "      <td>0.0</td>\n",
       "    </tr>\n",
       "    <tr>\n",
       "      <th>737</th>\n",
       "      <td>1.0</td>\n",
       "      <td>0.000000</td>\n",
       "      <td>NaN</td>\n",
       "      <td>0.0</td>\n",
       "      <td>0.0</td>\n",
       "      <td>0.0</td>\n",
       "      <td>0.0</td>\n",
       "      <td>0.0</td>\n",
       "    </tr>\n",
       "  </tbody>\n",
       "</table>\n",
       "<p>479 rows × 8 columns</p>\n",
       "</div>"
      ],
      "text/plain": [
       "            count      mean       std  min  25%  50%  75%  max\n",
       "lead_time                                                     \n",
       "0          6264.0  0.066571  0.249297  0.0  0.0  0.0  0.0  1.0\n",
       "1          3445.0  0.092308  0.289502  0.0  0.0  0.0  0.0  1.0\n",
       "2          2065.0  0.103148  0.304225  0.0  0.0  0.0  0.0  1.0\n",
       "3          1815.0  0.100275  0.300450  0.0  0.0  0.0  0.0  1.0\n",
       "4          1710.0  0.102339  0.303182  0.0  0.0  0.0  0.0  1.0\n",
       "...           ...       ...       ...  ...  ...  ...  ...  ...\n",
       "622          17.0  1.000000  0.000000  1.0  1.0  1.0  1.0  1.0\n",
       "626          30.0  1.000000  0.000000  1.0  1.0  1.0  1.0  1.0\n",
       "629          17.0  1.000000  0.000000  1.0  1.0  1.0  1.0  1.0\n",
       "709           1.0  0.000000       NaN  0.0  0.0  0.0  0.0  0.0\n",
       "737           1.0  0.000000       NaN  0.0  0.0  0.0  0.0  0.0\n",
       "\n",
       "[479 rows x 8 columns]"
      ]
     },
     "execution_count": 67,
     "metadata": {},
     "output_type": "execute_result"
    }
   ],
   "source": [
    "lead_cancel_data"
   ]
  },
  {
   "cell_type": "code",
   "execution_count": 68,
   "metadata": {},
   "outputs": [],
   "source": [
    "# Use lead_times wih more than 10 bookings for graph\n",
    "lead_cancel_data_10 = lead_cancel_data.loc[lead_cancel_data['count'] >= 10]"
   ]
  },
  {
   "cell_type": "code",
   "execution_count": 69,
   "metadata": {
    "scrolled": false
   },
   "outputs": [
    {
     "data": {
      "image/png": "[encoded data removed]",
      "text/plain": [
       "<Figure size 864x576 with 1 Axes>"
      ]
     },
     "metadata": {
      "needs_background": "light"
     },
     "output_type": "display_data"
    }
   ],
   "source": [
    "plt.figure(figsize = (12, 8))\n",
    "\n",
    "# Plot lead time vs. cancellation rate\n",
    "sns.regplot(x = lead_cancel_data_10.index, y = lead_cancel_data_10['mean'].values * 100, scatter_kws = {'alpha': 0.3}, color = 'tab:blue')\n",
    "\n",
    "plt.title('Lead time vs. Cancellation rate', fontsize = 16, fontweight = 'bold')\n",
    "plt.xlabel('Lead time (days)', fontsize = 14)\n",
    "plt.ylabel('Cancellation rate (%)', fontsize = 14)\n",
    "plt.xticks(fontsize = 10)\n",
    "plt.yticks(fontsize = 10)\n",
    "plt.grid(axis = 'both', linestyle = '--', alpha = 0.7)\n",
    "sns.despine(right = True, top = True)\n",
    "\n",
    "plt.show()"
   ]
  },
  {
   "cell_type": "markdown",
   "metadata": {},
   "source": [
    "The graph above shows that as hotel bookings are made further in advance, the cancellation rate increases."
   ]
  },
  {
   "cell_type": "markdown",
   "metadata": {},
   "source": [
    "### ADR"
   ]
  },
  {
   "cell_type": "code",
   "execution_count": 70,
   "metadata": {},
   "outputs": [],
   "source": [
    "# Group the hotel dataset by adr and calculate the summary statistics\n",
    "adr_cancel_data = hotel_data.groupby('adr')['is_canceled'].describe()"
   ]
  },
  {
   "cell_type": "code",
   "execution_count": 71,
   "metadata": {},
   "outputs": [
    {
     "data": {
      "text/html": [
       "<div>\n",
       "<style scoped>\n",
       "    .dataframe tbody tr th:only-of-type {\n",
       "        vertical-align: middle;\n",
       "    }\n",
       "\n",
       "    .dataframe tbody tr th {\n",
       "        vertical-align: top;\n",
       "    }\n",
       "\n",
       "    .dataframe thead th {\n",
       "        text-align: right;\n",
       "    }\n",
       "</style>\n",
       "<table border=\"1\" class=\"dataframe\">\n",
       "  <thead>\n",
       "    <tr style=\"text-align: right;\">\n",
       "      <th></th>\n",
       "      <th>count</th>\n",
       "      <th>mean</th>\n",
       "      <th>std</th>\n",
       "      <th>min</th>\n",
       "      <th>25%</th>\n",
       "      <th>50%</th>\n",
       "      <th>75%</th>\n",
       "      <th>max</th>\n",
       "    </tr>\n",
       "    <tr>\n",
       "      <th>adr</th>\n",
       "      <th></th>\n",
       "      <th></th>\n",
       "      <th></th>\n",
       "      <th></th>\n",
       "      <th></th>\n",
       "      <th></th>\n",
       "      <th></th>\n",
       "      <th></th>\n",
       "    </tr>\n",
       "  </thead>\n",
       "  <tbody>\n",
       "    <tr>\n",
       "      <th>-6.38</th>\n",
       "      <td>1.0</td>\n",
       "      <td>0.000000</td>\n",
       "      <td>NaN</td>\n",
       "      <td>0.0</td>\n",
       "      <td>0.0</td>\n",
       "      <td>0.0</td>\n",
       "      <td>0.0</td>\n",
       "      <td>0.0</td>\n",
       "    </tr>\n",
       "    <tr>\n",
       "      <th>0.00</th>\n",
       "      <td>1810.0</td>\n",
       "      <td>0.103867</td>\n",
       "      <td>0.305173</td>\n",
       "      <td>0.0</td>\n",
       "      <td>0.0</td>\n",
       "      <td>0.0</td>\n",
       "      <td>0.0</td>\n",
       "      <td>1.0</td>\n",
       "    </tr>\n",
       "    <tr>\n",
       "      <th>0.26</th>\n",
       "      <td>1.0</td>\n",
       "      <td>0.000000</td>\n",
       "      <td>NaN</td>\n",
       "      <td>0.0</td>\n",
       "      <td>0.0</td>\n",
       "      <td>0.0</td>\n",
       "      <td>0.0</td>\n",
       "      <td>0.0</td>\n",
       "    </tr>\n",
       "    <tr>\n",
       "      <th>0.50</th>\n",
       "      <td>1.0</td>\n",
       "      <td>1.000000</td>\n",
       "      <td>NaN</td>\n",
       "      <td>1.0</td>\n",
       "      <td>1.0</td>\n",
       "      <td>1.0</td>\n",
       "      <td>1.0</td>\n",
       "      <td>1.0</td>\n",
       "    </tr>\n",
       "    <tr>\n",
       "      <th>1.00</th>\n",
       "      <td>14.0</td>\n",
       "      <td>0.214286</td>\n",
       "      <td>0.425815</td>\n",
       "      <td>0.0</td>\n",
       "      <td>0.0</td>\n",
       "      <td>0.0</td>\n",
       "      <td>0.0</td>\n",
       "      <td>1.0</td>\n",
       "    </tr>\n",
       "    <tr>\n",
       "      <th>...</th>\n",
       "      <td>...</td>\n",
       "      <td>...</td>\n",
       "      <td>...</td>\n",
       "      <td>...</td>\n",
       "      <td>...</td>\n",
       "      <td>...</td>\n",
       "      <td>...</td>\n",
       "      <td>...</td>\n",
       "    </tr>\n",
       "    <tr>\n",
       "      <th>450.00</th>\n",
       "      <td>1.0</td>\n",
       "      <td>1.000000</td>\n",
       "      <td>NaN</td>\n",
       "      <td>1.0</td>\n",
       "      <td>1.0</td>\n",
       "      <td>1.0</td>\n",
       "      <td>1.0</td>\n",
       "      <td>1.0</td>\n",
       "    </tr>\n",
       "    <tr>\n",
       "      <th>451.50</th>\n",
       "      <td>1.0</td>\n",
       "      <td>0.000000</td>\n",
       "      <td>NaN</td>\n",
       "      <td>0.0</td>\n",
       "      <td>0.0</td>\n",
       "      <td>0.0</td>\n",
       "      <td>0.0</td>\n",
       "      <td>0.0</td>\n",
       "    </tr>\n",
       "    <tr>\n",
       "      <th>508.00</th>\n",
       "      <td>1.0</td>\n",
       "      <td>0.000000</td>\n",
       "      <td>NaN</td>\n",
       "      <td>0.0</td>\n",
       "      <td>0.0</td>\n",
       "      <td>0.0</td>\n",
       "      <td>0.0</td>\n",
       "      <td>0.0</td>\n",
       "    </tr>\n",
       "    <tr>\n",
       "      <th>510.00</th>\n",
       "      <td>1.0</td>\n",
       "      <td>0.000000</td>\n",
       "      <td>NaN</td>\n",
       "      <td>0.0</td>\n",
       "      <td>0.0</td>\n",
       "      <td>0.0</td>\n",
       "      <td>0.0</td>\n",
       "      <td>0.0</td>\n",
       "    </tr>\n",
       "    <tr>\n",
       "      <th>5400.00</th>\n",
       "      <td>1.0</td>\n",
       "      <td>1.000000</td>\n",
       "      <td>NaN</td>\n",
       "      <td>1.0</td>\n",
       "      <td>1.0</td>\n",
       "      <td>1.0</td>\n",
       "      <td>1.0</td>\n",
       "      <td>1.0</td>\n",
       "    </tr>\n",
       "  </tbody>\n",
       "</table>\n",
       "<p>8866 rows × 8 columns</p>\n",
       "</div>"
      ],
      "text/plain": [
       "           count      mean       std  min  25%  50%  75%  max\n",
       "adr                                                          \n",
       "-6.38        1.0  0.000000       NaN  0.0  0.0  0.0  0.0  0.0\n",
       " 0.00     1810.0  0.103867  0.305173  0.0  0.0  0.0  0.0  1.0\n",
       " 0.26        1.0  0.000000       NaN  0.0  0.0  0.0  0.0  0.0\n",
       " 0.50        1.0  1.000000       NaN  1.0  1.0  1.0  1.0  1.0\n",
       " 1.00       14.0  0.214286  0.425815  0.0  0.0  0.0  0.0  1.0\n",
       "...          ...       ...       ...  ...  ...  ...  ...  ...\n",
       " 450.00      1.0  1.000000       NaN  1.0  1.0  1.0  1.0  1.0\n",
       " 451.50      1.0  0.000000       NaN  0.0  0.0  0.0  0.0  0.0\n",
       " 508.00      1.0  0.000000       NaN  0.0  0.0  0.0  0.0  0.0\n",
       " 510.00      1.0  0.000000       NaN  0.0  0.0  0.0  0.0  0.0\n",
       " 5400.00     1.0  1.000000       NaN  1.0  1.0  1.0  1.0  1.0\n",
       "\n",
       "[8866 rows x 8 columns]"
      ]
     },
     "execution_count": 71,
     "metadata": {},
     "output_type": "execute_result"
    }
   ],
   "source": [
    "adr_cancel_data"
   ]
  },
  {
   "cell_type": "code",
   "execution_count": 72,
   "metadata": {},
   "outputs": [],
   "source": [
    "# Removing the outlier (i.e., adr = 5400)\n",
    "adr_cancel_data_v2 = adr_cancel_data.loc[adr_cancel_data.index < 5400]"
   ]
  },
  {
   "cell_type": "code",
   "execution_count": 73,
   "metadata": {},
   "outputs": [
    {
     "data": {
      "image/png": "[encoded data removed]",
      "text/plain": [
       "<Figure size 864x576 with 1 Axes>"
      ]
     },
     "metadata": {
      "needs_background": "light"
     },
     "output_type": "display_data"
    }
   ],
   "source": [
    "plt.figure(figsize = (12, 8))\n",
    "\n",
    "# Plot adr vs. cancellation rate\n",
    "sns.regplot(x = adr_cancel_data_v2.index, y = adr_cancel_data_v2['mean'].values * 100, scatter_kws = {'alpha': 0.3}, color = 'tab:blue')\n",
    "\n",
    "plt.title('ADR vs. Cancellation rate', fontsize = 16, fontweight = 'bold')\n",
    "plt.xlabel('ADR', fontsize = 14)\n",
    "plt.ylabel('Cancellation rate (%)', fontsize = 14)\n",
    "plt.xticks(fontsize = 12)\n",
    "plt.yticks(fontsize = 12)\n",
    "plt.grid(axis = 'both', linestyle = '--', alpha = 0.7)\n",
    "sns.despine(right = True, top = True)\n",
    "\n",
    "plt.show()"
   ]
  },
  {
   "cell_type": "markdown",
   "metadata": {},
   "source": [
    "The graph above illustrates that as adr increases, the cancellation rate also increases."
   ]
  },
  {
   "cell_type": "markdown",
   "metadata": {},
   "source": [
    "### Deposit type"
   ]
  },
  {
   "cell_type": "code",
   "execution_count": 74,
   "metadata": {},
   "outputs": [],
   "source": [
    "# Group the hotel dataset by deposit type and calculate the summary statistics\n",
    "deposit_cancel_data = hotel_data.groupby('deposit_type')['is_canceled'].describe()"
   ]
  },
  {
   "cell_type": "code",
   "execution_count": 75,
   "metadata": {},
   "outputs": [
    {
     "data": {
      "text/html": [
       "<div>\n",
       "<style scoped>\n",
       "    .dataframe tbody tr th:only-of-type {\n",
       "        vertical-align: middle;\n",
       "    }\n",
       "\n",
       "    .dataframe tbody tr th {\n",
       "        vertical-align: top;\n",
       "    }\n",
       "\n",
       "    .dataframe thead th {\n",
       "        text-align: right;\n",
       "    }\n",
       "</style>\n",
       "<table border=\"1\" class=\"dataframe\">\n",
       "  <thead>\n",
       "    <tr style=\"text-align: right;\">\n",
       "      <th></th>\n",
       "      <th>count</th>\n",
       "      <th>mean</th>\n",
       "      <th>std</th>\n",
       "      <th>min</th>\n",
       "      <th>25%</th>\n",
       "      <th>50%</th>\n",
       "      <th>75%</th>\n",
       "      <th>max</th>\n",
       "    </tr>\n",
       "    <tr>\n",
       "      <th>deposit_type</th>\n",
       "      <th></th>\n",
       "      <th></th>\n",
       "      <th></th>\n",
       "      <th></th>\n",
       "      <th></th>\n",
       "      <th></th>\n",
       "      <th></th>\n",
       "      <th></th>\n",
       "    </tr>\n",
       "  </thead>\n",
       "  <tbody>\n",
       "    <tr>\n",
       "      <th>No Deposit</th>\n",
       "      <td>104461.0</td>\n",
       "      <td>0.284020</td>\n",
       "      <td>0.450948</td>\n",
       "      <td>0.0</td>\n",
       "      <td>0.0</td>\n",
       "      <td>0.0</td>\n",
       "      <td>1.0</td>\n",
       "      <td>1.0</td>\n",
       "    </tr>\n",
       "    <tr>\n",
       "      <th>Non Refund</th>\n",
       "      <td>14587.0</td>\n",
       "      <td>0.993624</td>\n",
       "      <td>0.079595</td>\n",
       "      <td>0.0</td>\n",
       "      <td>1.0</td>\n",
       "      <td>1.0</td>\n",
       "      <td>1.0</td>\n",
       "      <td>1.0</td>\n",
       "    </tr>\n",
       "    <tr>\n",
       "      <th>Refundable</th>\n",
       "      <td>162.0</td>\n",
       "      <td>0.222222</td>\n",
       "      <td>0.417029</td>\n",
       "      <td>0.0</td>\n",
       "      <td>0.0</td>\n",
       "      <td>0.0</td>\n",
       "      <td>0.0</td>\n",
       "      <td>1.0</td>\n",
       "    </tr>\n",
       "  </tbody>\n",
       "</table>\n",
       "</div>"
      ],
      "text/plain": [
       "                 count      mean       std  min  25%  50%  75%  max\n",
       "deposit_type                                                       \n",
       "No Deposit    104461.0  0.284020  0.450948  0.0  0.0  0.0  1.0  1.0\n",
       "Non Refund     14587.0  0.993624  0.079595  0.0  1.0  1.0  1.0  1.0\n",
       "Refundable       162.0  0.222222  0.417029  0.0  0.0  0.0  0.0  1.0"
      ]
     },
     "execution_count": 75,
     "metadata": {},
     "output_type": "execute_result"
    }
   ],
   "source": [
    "deposit_cancel_data"
   ]
  },
  {
   "cell_type": "code",
   "execution_count": 76,
   "metadata": {},
   "outputs": [
    {
     "data": {
      "image/png": "[encoded data removed]",
      "text/plain": [
       "<Figure size 864x576 with 1 Axes>"
      ]
     },
     "metadata": {
      "needs_background": "light"
     },
     "output_type": "display_data"
    }
   ],
   "source": [
    "plt.figure(figsize = (12, 8))\n",
    "\n",
    "# Plot deposit type vs. cancellation rate\n",
    "sns.barplot(x = deposit_cancel_data.index, y = deposit_cancel_data['mean'].values * 100)\n",
    "\n",
    "# Add value labels to the bars\n",
    "for i, value in enumerate(deposit_cancel_data['mean'].values * 100):\n",
    "    plt.text(i, value + 1, str(round(value, 2)), ha = 'center', fontsize = 12)\n",
    "\n",
    "# Customise the plot\n",
    "plt.title('Cancellation rate by deposit type', fontsize = 16, fontweight = 'bold')\n",
    "plt.xlabel('Deposit type', fontsize = 14)\n",
    "plt.ylabel('Cancellation rate (%)', fontsize = 14)\n",
    "plt.xticks(fontsize = 12)\n",
    "plt.yticks(fontsize = 12)\n",
    "plt.grid(axis = 'y', linestyle = '--', alpha = 0.7)\n",
    "sns.despine()\n",
    "\n",
    "plt.show()"
   ]
  },
  {
   "cell_type": "markdown",
   "metadata": {},
   "source": [
    "The graph above shows that non-refund deposit type has the highest cancellation rate, which is counter-intuitive. As such, further investigation is required to assess the reason."
   ]
  },
  {
   "cell_type": "code",
   "execution_count": 77,
   "metadata": {},
   "outputs": [],
   "source": [
    "deposit_mean_data = hotel_data.groupby('deposit_type').mean()"
   ]
  },
  {
   "cell_type": "code",
   "execution_count": 78,
   "metadata": {},
   "outputs": [
    {
     "data": {
      "text/html": [
       "<div>\n",
       "<style scoped>\n",
       "    .dataframe tbody tr th:only-of-type {\n",
       "        vertical-align: middle;\n",
       "    }\n",
       "\n",
       "    .dataframe tbody tr th {\n",
       "        vertical-align: top;\n",
       "    }\n",
       "\n",
       "    .dataframe thead th {\n",
       "        text-align: right;\n",
       "    }\n",
       "</style>\n",
       "<table border=\"1\" class=\"dataframe\">\n",
       "  <thead>\n",
       "    <tr style=\"text-align: right;\">\n",
       "      <th></th>\n",
       "      <th>is_canceled</th>\n",
       "      <th>lead_time</th>\n",
       "      <th>arrival_date_year</th>\n",
       "      <th>arrival_date_week_number</th>\n",
       "      <th>arrival_date_day_of_month</th>\n",
       "      <th>stays_in_weekend_nights</th>\n",
       "      <th>stays_in_week_nights</th>\n",
       "      <th>adults</th>\n",
       "      <th>children</th>\n",
       "      <th>babies</th>\n",
       "      <th>is_repeated_guest</th>\n",
       "      <th>previous_cancellations</th>\n",
       "      <th>previous_bookings_not_canceled</th>\n",
       "      <th>booking_changes</th>\n",
       "      <th>agent</th>\n",
       "      <th>company</th>\n",
       "      <th>days_in_waiting_list</th>\n",
       "      <th>adr</th>\n",
       "      <th>required_car_parking_spaces</th>\n",
       "      <th>total_of_special_requests</th>\n",
       "    </tr>\n",
       "    <tr>\n",
       "      <th>deposit_type</th>\n",
       "      <th></th>\n",
       "      <th></th>\n",
       "      <th></th>\n",
       "      <th></th>\n",
       "      <th></th>\n",
       "      <th></th>\n",
       "      <th></th>\n",
       "      <th></th>\n",
       "      <th></th>\n",
       "      <th></th>\n",
       "      <th></th>\n",
       "      <th></th>\n",
       "      <th></th>\n",
       "      <th></th>\n",
       "      <th></th>\n",
       "      <th></th>\n",
       "      <th></th>\n",
       "      <th></th>\n",
       "      <th></th>\n",
       "      <th></th>\n",
       "    </tr>\n",
       "  </thead>\n",
       "  <tbody>\n",
       "    <tr>\n",
       "      <th>No Deposit</th>\n",
       "      <td>0.284020</td>\n",
       "      <td>88.841951</td>\n",
       "      <td>2016.173950</td>\n",
       "      <td>27.133208</td>\n",
       "      <td>15.815223</td>\n",
       "      <td>0.969615</td>\n",
       "      <td>2.555633</td>\n",
       "      <td>1.865806</td>\n",
       "      <td>0.118599</td>\n",
       "      <td>0.009085</td>\n",
       "      <td>0.035295</td>\n",
       "      <td>0.042044</td>\n",
       "      <td>0.154938</td>\n",
       "      <td>0.247030</td>\n",
       "      <td>78.745503</td>\n",
       "      <td>11.175874</td>\n",
       "      <td>1.518040</td>\n",
       "      <td>103.685436</td>\n",
       "      <td>0.071184</td>\n",
       "      <td>0.651726</td>\n",
       "    </tr>\n",
       "    <tr>\n",
       "      <th>Non Refund</th>\n",
       "      <td>0.993624</td>\n",
       "      <td>212.908891</td>\n",
       "      <td>2016.031466</td>\n",
       "      <td>27.448619</td>\n",
       "      <td>15.595462</td>\n",
       "      <td>0.621718</td>\n",
       "      <td>2.091109</td>\n",
       "      <td>1.811407</td>\n",
       "      <td>0.000617</td>\n",
       "      <td>0.000000</td>\n",
       "      <td>0.004387</td>\n",
       "      <td>0.411462</td>\n",
       "      <td>0.010626</td>\n",
       "      <td>0.012477</td>\n",
       "      <td>47.480016</td>\n",
       "      <td>6.215809</td>\n",
       "      <td>7.992253</td>\n",
       "      <td>89.964017</td>\n",
       "      <td>0.000069</td>\n",
       "      <td>0.001782</td>\n",
       "    </tr>\n",
       "    <tr>\n",
       "      <th>Refundable</th>\n",
       "      <td>0.222222</td>\n",
       "      <td>152.098765</td>\n",
       "      <td>2016.141975</td>\n",
       "      <td>20.932099</td>\n",
       "      <td>23.456790</td>\n",
       "      <td>0.975309</td>\n",
       "      <td>2.851852</td>\n",
       "      <td>1.907407</td>\n",
       "      <td>0.030864</td>\n",
       "      <td>0.000000</td>\n",
       "      <td>0.024691</td>\n",
       "      <td>0.000000</td>\n",
       "      <td>0.018519</td>\n",
       "      <td>0.592593</td>\n",
       "      <td>56.185185</td>\n",
       "      <td>133.666667</td>\n",
       "      <td>9.586420</td>\n",
       "      <td>76.209753</td>\n",
       "      <td>0.123457</td>\n",
       "      <td>0.141975</td>\n",
       "    </tr>\n",
       "  </tbody>\n",
       "</table>\n",
       "</div>"
      ],
      "text/plain": [
       "              is_canceled   lead_time  arrival_date_year  \\\n",
       "deposit_type                                               \n",
       "No Deposit       0.284020   88.841951        2016.173950   \n",
       "Non Refund       0.993624  212.908891        2016.031466   \n",
       "Refundable       0.222222  152.098765        2016.141975   \n",
       "\n",
       "              arrival_date_week_number  arrival_date_day_of_month  \\\n",
       "deposit_type                                                        \n",
       "No Deposit                   27.133208                  15.815223   \n",
       "Non Refund                   27.448619                  15.595462   \n",
       "Refundable                   20.932099                  23.456790   \n",
       "\n",
       "              stays_in_weekend_nights  stays_in_week_nights    adults  \\\n",
       "deposit_type                                                            \n",
       "No Deposit                   0.969615              2.555633  1.865806   \n",
       "Non Refund                   0.621718              2.091109  1.811407   \n",
       "Refundable                   0.975309              2.851852  1.907407   \n",
       "\n",
       "              children    babies  is_repeated_guest  previous_cancellations  \\\n",
       "deposit_type                                                                  \n",
       "No Deposit    0.118599  0.009085           0.035295                0.042044   \n",
       "Non Refund    0.000617  0.000000           0.004387                0.411462   \n",
       "Refundable    0.030864  0.000000           0.024691                0.000000   \n",
       "\n",
       "              previous_bookings_not_canceled  booking_changes      agent  \\\n",
       "deposit_type                                                               \n",
       "No Deposit                          0.154938         0.247030  78.745503   \n",
       "Non Refund                          0.010626         0.012477  47.480016   \n",
       "Refundable                          0.018519         0.592593  56.185185   \n",
       "\n",
       "                 company  days_in_waiting_list         adr  \\\n",
       "deposit_type                                                 \n",
       "No Deposit     11.175874              1.518040  103.685436   \n",
       "Non Refund      6.215809              7.992253   89.964017   \n",
       "Refundable    133.666667              9.586420   76.209753   \n",
       "\n",
       "              required_car_parking_spaces  total_of_special_requests  \n",
       "deposit_type                                                          \n",
       "No Deposit                       0.071184                   0.651726  \n",
       "Non Refund                       0.000069                   0.001782  \n",
       "Refundable                       0.123457                   0.141975  "
      ]
     },
     "execution_count": 78,
     "metadata": {},
     "output_type": "execute_result"
    }
   ],
   "source": [
    "deposit_mean_data"
   ]
  },
  {
   "cell_type": "markdown",
   "metadata": {},
   "source": [
    "Looking at the mean values, it shows that non-refund deposit type has the highest average lead time. Since lead time is correlated to cancellation rate, this could be the reason why non-refund deposit type has the highest cancellation rate.\n",
    "\n",
    "**Business proposition**: Since lead time and adr are correlated to cancellation rate, more marketing campaigns can be targeted towards people who have made advance hotel bookings and/or greater lodging payments to retain their booking interest."
   ]
  },
  {
   "cell_type": "markdown",
   "metadata": {},
   "source": [
    "# Cancellation prediction on clusters\n",
    "\n",
    "To combine the customer segmentation and cancellation prediction sections, the random forest model will be run on selected clusters to determine whether there is any significant improvement in the evaluation metric scores. In this case, **cluster 4** has been chosen given that it has the largest cluster dataset."
   ]
  },
  {
   "cell_type": "code",
   "execution_count": 79,
   "metadata": {},
   "outputs": [],
   "source": [
    "cluster4 = combined_clusters.copy(deep = True)\n",
    "cluster4['is_canceled'] = y_combined\n",
    "cluster4 = cluster4[cluster4['cluster_id'] == 4]\n",
    "cluster4.drop(columns = ['cluster_id'], inplace = True)\n",
    "cluster4.reset_index(drop = True, inplace = True)"
   ]
  },
  {
   "cell_type": "code",
   "execution_count": 80,
   "metadata": {},
   "outputs": [],
   "source": [
    "x_cluster4 = cluster4.drop(columns = ['is_canceled'])\n",
    "y_cluster4 = cluster4.loc[:, 'is_canceled']"
   ]
  },
  {
   "cell_type": "code",
   "execution_count": 81,
   "metadata": {},
   "outputs": [
    {
     "name": "stdout",
     "output_type": "stream",
     "text": [
      "Evaluation report for cluster 4:\n",
      "Accuracy: 0.86\n",
      "Precision: 0.89\n",
      "Recall: 0.81\n",
      "F1-score: 0.85\n",
      "AUC: 0.86\n"
     ]
    }
   ],
   "source": [
    "# Perform cross-validation and calculate evaluation metrics\n",
    "cluster4_random_forest_cv = cross_validate(random_forest, x_cluster4, y_cluster4, cv = skf, scoring = scoring)\n",
    "\n",
    "# Print average evaluation metrics across all folds\n",
    "print('Evaluation report for cluster 4:')\n",
    "print('Accuracy:', round(np.mean(cluster4_random_forest_cv['test_accuracy']), 2))\n",
    "print('Precision:', round(np.mean(cluster4_random_forest_cv['test_precision']), 2))\n",
    "print('Recall:', round(np.mean(cluster4_random_forest_cv['test_recall']), 2))\n",
    "print('F1-score:', round(np.mean(cluster4_random_forest_cv['test_f1']), 2))\n",
    "print('AUC:', round(np.mean(cluster4_random_forest_cv['test_auc']), 2))"
   ]
  },
  {
   "cell_type": "code",
   "execution_count": 82,
   "metadata": {},
   "outputs": [
    {
     "name": "stdout",
     "output_type": "stream",
     "text": [
      "Evaluation report for Combined Hotel:\n",
      "Accuracy     0.86\n",
      "Precision    0.87\n",
      "Recall       0.75\n",
      "F1-score     0.80\n",
      "AUC          0.84\n",
      "Name: Combined, dtype: float64\n"
     ]
    }
   ],
   "source": [
    "print('Evaluation report for Combined Hotel:')\n",
    "print(df_random_forest_scores.loc['Combined'])"
   ]
  },
  {
   "cell_type": "markdown",
   "metadata": {},
   "source": [
    "The reports show that there is a slight improvement in the model evaluation. Nevertheless, the Combined Hotel dataset performs reasonably well compared to the cluster dataset."
   ]
  }
 ],
 "metadata": {
  "kernelspec": {
   "display_name": "Python 3",
   "language": "python",
   "name": "python3"
  },
  "language_info": {
   "codemirror_mode": {
    "name": "ipython",
    "version": 3
   },
   "file_extension": ".py",
   "mimetype": "text/x-python",
   "name": "python",
   "nbconvert_exporter": "python",
   "pygments_lexer": "ipython3",
   "version": "3.8.8"
  },
  "vscode": {
   "interpreter": {
    "hash": "225d71fa1ddb820a38bf9091a8f7fa947e420e1bf567831e03c249b6c6f62e73"
   }
  }
 },
 "nbformat": 4,
 "nbformat_minor": 2
}
